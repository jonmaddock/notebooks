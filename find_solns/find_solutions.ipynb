{
 "cells": [
  {
   "cell_type": "code",
   "execution_count": 1,
   "metadata": {},
   "outputs": [],
   "source": [
    "import process\n",
    "from pathlib import Path\n",
    "# from process.io import plot_solutions as ps\n",
    "from process.io.find_solutions import find_solutions\n"
   ]
  },
  {
   "cell_type": "code",
   "execution_count": 2,
   "metadata": {},
   "outputs": [
    {
     "name": "stdout",
     "output_type": "stream",
     "text": [
      "No comment in config file find_solutions.conf\n",
      "\n",
      "Original IN.DAT:     ref_IN.DAT\n",
      "PROCESS binary:      ~pknight/process/bin/process_draft\n",
      "Number of iterations 1000\n",
      "random seed          2\n",
      "variable range factor 1.1\n",
      "Config file          find_solutions.conf\n",
      "Comment   \n",
      "ioptimz              1\n",
      "\n"
     ]
    },
    {
     "name": "stderr",
     "output_type": "stream",
     "text": [
      "cp: 'find_solutions.conf' and './find_solutions.conf' are the same file\n",
      "Warning: boundu for vdalw lies out of allowed input range!\n",
      " Reset boundu(52) to 100.0\n"
     ]
    },
    {
     "ename": "ValueError",
     "evalue": "'bt' is not in list",
     "output_type": "error",
     "traceback": [
      "\u001b[0;31m---------------------------------------------------------------------------\u001b[0m",
      "\u001b[0;31mValueError\u001b[0m                                Traceback (most recent call last)",
      "\u001b[1;32m/home/jon/code/notebooks/find_solns/find_solutions.ipynb Cell 2\u001b[0m line \u001b[0;36m2\n\u001b[1;32m      <a href='vscode-notebook-cell:/home/jon/code/notebooks/find_solns/find_solutions.ipynb#W1sZmlsZQ%3D%3D?line=0'>1</a>\u001b[0m conf_path \u001b[39m=\u001b[39m Path(\u001b[39m\"\u001b[39m\u001b[39mfind_solutions.conf\u001b[39m\u001b[39m\"\u001b[39m)\n\u001b[0;32m----> <a href='vscode-notebook-cell:/home/jon/code/notebooks/find_solns/find_solutions.ipynb#W1sZmlsZQ%3D%3D?line=1'>2</a>\u001b[0m find_solutions(conf_path, solver_config\u001b[39m=\u001b[39;49m\u001b[39m\"\u001b[39;49m\u001b[39msolver.toml\u001b[39;49m\u001b[39m\"\u001b[39;49m)\n",
      "File \u001b[0;32m~/anaconda3/envs/dakota/lib/python3.10/site-packages/process/io/find_solutions.py:74\u001b[0m, in \u001b[0;36mfind_solutions\u001b[0;34m(config_path, solver_config)\u001b[0m\n\u001b[1;32m     70\u001b[0m NEQNS, ITERVARS \u001b[39m=\u001b[39m get_neqns_itervars()\n\u001b[1;32m     72\u001b[0m update_ixc_bounds()\n\u001b[0;32m---> 74\u001b[0m LBS, UBS \u001b[39m=\u001b[39m get_variable_range(ITERVARS, CONFIG\u001b[39m.\u001b[39;49mfactor)\n\u001b[1;32m     76\u001b[0m TABLE_ERR \u001b[39m=\u001b[39m []\n\u001b[1;32m     77\u001b[0m TABLE_OBJ \u001b[39m=\u001b[39m []\n",
      "File \u001b[0;32m~/anaconda3/envs/dakota/lib/python3.10/site-packages/process/io/process_funcs.py:100\u001b[0m, in \u001b[0;36mget_variable_range\u001b[0;34m(itervars, factor, wdir)\u001b[0m\n\u001b[1;32m     97\u001b[0m iteration_variables \u001b[39m=\u001b[39m [f2py_compatible_to_string(i) \u001b[39mfor\u001b[39;00m i \u001b[39min\u001b[39;00m numerics\u001b[39m.\u001b[39mlablxc]\n\u001b[1;32m     99\u001b[0m \u001b[39mfor\u001b[39;00m varname \u001b[39min\u001b[39;00m itervars:\n\u001b[0;32m--> 100\u001b[0m     iteration_variable_index \u001b[39m=\u001b[39m iteration_variables\u001b[39m.\u001b[39;49mindex(varname)\n\u001b[1;32m    101\u001b[0m     lb \u001b[39m=\u001b[39m numerics\u001b[39m.\u001b[39mboundl[iteration_variable_index]\n\u001b[1;32m    102\u001b[0m     ub \u001b[39m=\u001b[39m numerics\u001b[39m.\u001b[39mboundu[iteration_variable_index]\n",
      "\u001b[0;31mValueError\u001b[0m: 'bt' is not in list"
     ]
    }
   ],
   "source": [
    "\n",
    "conf_path = Path(\"find_solutions.conf\")\n",
    "find_solutions(conf_path, solver_config=\"solver.toml\")\n"
   ]
  }
 ],
 "metadata": {
  "kernelspec": {
   "display_name": "dakota",
   "language": "python",
   "name": "python3"
  },
  "language_info": {
   "codemirror_mode": {
    "name": "ipython",
    "version": 3
   },
   "file_extension": ".py",
   "mimetype": "text/x-python",
   "name": "python",
   "nbconvert_exporter": "python",
   "pygments_lexer": "ipython3",
   "version": "3.10.13"
  }
 },
 "nbformat": 4,
 "nbformat_minor": 2
}
