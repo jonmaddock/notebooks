{
 "cells": [
  {
   "attachments": {},
   "cell_type": "markdown",
   "metadata": {},
   "source": [
    "# Try to find multiple solutions for generic DEMO"
   ]
  },
  {
   "cell_type": "code",
   "execution_count": 1,
   "metadata": {},
   "outputs": [],
   "source": [
    "# Reload Process each time (keep editable install up-to-date)\n",
    "%load_ext autoreload\n",
    "%autoreload 2\n",
    "\n",
    "import process\n",
    "from pathlib import Path\n",
    "from process.io import plot_solutions as ps\n",
    "from process.io.find_solutions import find_solutions"
   ]
  },
  {
   "cell_type": "code",
   "execution_count": 2,
   "metadata": {},
   "outputs": [
    {
     "name": "stdout",
     "output_type": "stream",
     "text": [
      "No comment in config file find_solutions.conf\n",
      "\n",
      "Original IN.DAT:     ref_IN.DAT\n",
      "PROCESS binary:      ~pknight/process/bin/process_draft\n",
      "Number of iterations 5\n",
      "variable range factor None\n",
      "Config file          find_solutions.conf\n",
      "Comment   \n",
      "ioptimz              1\n",
      "\n"
     ]
    },
    {
     "name": "stderr",
     "output_type": "stream",
     "text": [
      "cp: 'find_solutions.conf' and './find_solutions.conf' are the same file\n"
     ]
    },
    {
     "name": "stdout",
     "output_type": "stream",
     "text": [
      "0 PROCESS run started ..."
     ]
    },
    {
     "name": "stderr",
     "output_type": "stream",
     "text": [
      "process.io.mfile - ERROR - Key 'f' not in MFILE. KeyError! Check MFILE\n"
     ]
    },
    {
     "name": "stdout",
     "output_type": "stream",
     "text": [
      "finished.\n",
      "1 PROCESS run started ..."
     ]
    },
    {
     "name": "stderr",
     "output_type": "stream",
     "text": [
      "process.io.mfile - ERROR - Key 'f' not in MFILE. KeyError! Check MFILE\n"
     ]
    },
    {
     "name": "stdout",
     "output_type": "stream",
     "text": [
      "finished.\n",
      "2 PROCESS run started ..."
     ]
    },
    {
     "name": "stderr",
     "output_type": "stream",
     "text": [
      "process.io.mfile - ERROR - Key 'f' not in MFILE. KeyError! Check MFILE\n"
     ]
    },
    {
     "name": "stdout",
     "output_type": "stream",
     "text": [
      "finished.\n",
      "3 PROCESS run started ..."
     ]
    },
    {
     "name": "stderr",
     "output_type": "stream",
     "text": [
      "process.io.mfile - ERROR - Key 'f' not in MFILE. KeyError! Check MFILE\n"
     ]
    },
    {
     "name": "stdout",
     "output_type": "stream",
     "text": [
      "finished.\n",
      "4 PROCESS run started ..."
     ]
    },
    {
     "name": "stderr",
     "output_type": "stream",
     "text": [
      "process.io.mfile - ERROR - Key 'f' not in MFILE. KeyError! Check MFILE\n"
     ]
    },
    {
     "name": "stdout",
     "output_type": "stream",
     "text": [
      "finished.\n",
      "\n",
      " Error codes:\n",
      "code -1:    0 out of    5 = 0.0 %\n",
      "code  0:    0 out of    5 = 0.0 %\n",
      "code  1:    0 out of    5 = 0.0 %\n",
      "code  2:    0 out of    5 = 0.0 %\n",
      "code  3:    0 out of    5 = 0.0 %\n",
      "code  4:    0 out of    5 = 0.0 %\n",
      "code  5:    5 out of    5 = 100.0 %\n",
      "code  6:    0 out of    5 = 0.0 %\n"
     ]
    }
   ],
   "source": [
    "conf_path = Path(\"find_solutions.conf\")\n",
    "find_solutions(conf_path)"
   ]
  },
  {
   "attachments": {},
   "cell_type": "markdown",
   "metadata": {},
   "source": [
    "`find_solutions` appears to work: run multiple randomised Process initial points, and outputs ifails for each."
   ]
  }
 ],
 "metadata": {
  "kernelspec": {
   "display_name": "process",
   "language": "python",
   "name": "python3"
  },
  "language_info": {
   "codemirror_mode": {
    "name": "ipython",
    "version": 3
   },
   "file_extension": ".py",
   "mimetype": "text/x-python",
   "name": "python",
   "nbconvert_exporter": "python",
   "pygments_lexer": "ipython3",
   "version": "3.10.9"
  },
  "orig_nbformat": 4
 },
 "nbformat": 4,
 "nbformat_minor": 2
}
