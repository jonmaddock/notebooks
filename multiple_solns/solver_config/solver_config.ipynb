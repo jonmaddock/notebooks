{
 "cells": [
  {
   "attachments": {},
   "cell_type": "markdown",
   "metadata": {},
   "source": [
    "# Try using a config file to setup the solver"
   ]
  },
  {
   "cell_type": "code",
   "execution_count": 4,
   "metadata": {},
   "outputs": [
    {
     "name": "stdout",
     "output_type": "stream",
     "text": [
      "The autoreload extension is already loaded. To reload it, use:\n",
      "  %reload_ext autoreload\n"
     ]
    }
   ],
   "source": [
    "# Reload Process each time (keep editable install up-to-date)\n",
    "%load_ext autoreload\n",
    "%autoreload 2\n",
    "\n",
    "from process.main import SingleRun, VaryRun\n",
    "from pathlib import Path\n",
    "from process.io import plot_solutions as ps"
   ]
  },
  {
   "cell_type": "code",
   "execution_count": 2,
   "metadata": {},
   "outputs": [
    {
     "name": "stdout",
     "output_type": "stream",
     "text": [
      "The IN.DAT file does not contain any obsolete variables.\n",
      " tmargmin_cs and tmargmin should not both be specified in IN.DAT.\n",
      " tmargmin_cs has been ignored.\n",
      " \n",
      " **************************************************************************************************************\n",
      " ************************************************** PROCESS ***************************************************\n",
      " ************************************** Power Reactor Optimisation Code ***************************************\n",
      " **************************************************************************************************************\n",
      " \n",
      "   Program :\n",
      "   Version : 2.4.0   Release Date :: 2022-05-18\n",
      "   Tag No. : v2.4.0-963-gcda1a8011 code contains untracked changes\n",
      "    Branch : nlopt-soln-plotting\n",
      "   Git log : Use iter var bounds in input.f90\n",
      " Date/time : 16 May 2023 21:07:52 +01:00(hh:mm) UTC\n",
      "      User : jon\n",
      "  Computer : jon-Precision-3560\n",
      " Directory : /home/jon/code/notebooks/global_opt/solver_config\n",
      "     Input : /home/jon/code/notebooks/global_opt/solver_config/generic_demo_IN.DAT\n",
      " Run title : Generic DEMO\n",
      "  Run type : Reactor concept design: Pulsed tokamak model, (c) CCFE\n",
      " \n",
      " **************************************************************************************************************\n",
      " \n",
      "   Equality constraints : 27\n",
      " Inequality constraints : 00\n",
      "      Total constraints : 27\n",
      "    Iteration variables : 47\n",
      "         Max iterations : 200\n",
      "       Figure of merit  : -17  -- maximise net electrical output\n",
      "  Convergence parameter : 1.00E-07\n",
      " \n",
      " **************************************************************************************************************\n",
      " \n",
      " =>   91  vmcon iterations. Normalised FoM =  1.3992  Residuals (sqsumsq) = 4.2E-08  Convergence param = 2.9E-09\n",
      " ************************************* PROCESS found a feasible solution **************************************\n",
      " \n",
      " WARNING: Pedestal parameters are outside the range of applicability of the scaling:\n",
      " triang: 0.4 - 0.6; kappa: 1.5 - 2.0;   plascur: 10 - 20 MA, rmajor: 7 - 11 m;\n",
      " rminor: 2 - 3.5 m; tesep: 0 - 0.5 keV; normalised_total_beta: 2 - 3\n",
      "   normalised_total_beta =    3.2554E+00\n",
      " \n",
      " ******************************************** Errors and Warnings *********************************************\n",
      " \n",
      " PROCESS status flag:   Warning messages                                  \n",
      " \n",
      " ID  LEVEL  MESSAGE\n",
      "150     2   CHECK: Lower limit of volume averaged electron temperature (te) has been raised \n",
      "  \n",
      "243     2   PHYSICS: Predicted plasma driven current is more than upper limit on non-inducti\n",
      "  \n",
      "244     2   PHYSICS: Diamagnetic fraction is more than 1%, but not calculated. Consider usin\n",
      "  \n",
      "135     1   OUTPF: CS not using max current density: further optimisation may be possible   \n",
      "  \n",
      " \n",
      " ******************************************* End of PROCESS Output ********************************************\n",
      " \n"
     ]
    }
   ],
   "source": [
    "input_path = Path(\"generic_demo_IN.DAT\")\n",
    "single_run = SingleRun(str(input_path), solver_config=\"solver.toml\")\n",
    "single_run.run()"
   ]
  },
  {
   "cell_type": "code",
   "execution_count": 6,
   "metadata": {},
   "outputs": [
    {
     "name": "stdout",
     "output_type": "stream",
     "text": [
      "\n",
      "Working directory:   /home/jon/code/notebooks/global_opt/solver_config\n",
      "Original IN.DAT:     /home/jon/code/notebooks/global_opt/solver_config/ref_IN.DAT\n",
      "PROCESS binary:      process.exe\n",
      "Number of iterations 100\n",
      "variable range factor 1.9\n",
      "Config file          /home/jon/code/notebooks/global_opt/solver_config/run_process.conf\n",
      "Comment   ipedestal = 1, with other variables appropriate for running PLASMOD\n",
      "\n",
      "no. allowed UNFEASIBLE points 0\n",
      "\n"
     ]
    },
    {
     "name": "stderr",
     "output_type": "stream",
     "text": [
      "cp: '/home/jon/code/notebooks/global_opt/solver_config/run_process.conf' and '/home/jon/code/notebooks/global_opt/solver_config/run_process.conf' are the same file\n"
     ]
    },
    {
     "name": "stdout",
     "output_type": "stream",
     "text": [
      "0 PROCESS run started ..."
     ]
    },
    {
     "ename": "KeyboardInterrupt",
     "evalue": "",
     "output_type": "error",
     "traceback": [
      "\u001b[0;31m---------------------------------------------------------------------------\u001b[0m",
      "\u001b[0;31mKeyboardInterrupt\u001b[0m                         Traceback (most recent call last)",
      "Cell \u001b[0;32mIn[6], line 3\u001b[0m\n\u001b[1;32m      1\u001b[0m CONF_PATH \u001b[39m=\u001b[39m Path(\u001b[39m\"\u001b[39m\u001b[39mrun_process.conf\u001b[39m\u001b[39m\"\u001b[39m)\n\u001b[0;32m----> 3\u001b[0m vary_run \u001b[39m=\u001b[39m VaryRun(\u001b[39mstr\u001b[39;49m(CONF_PATH), solver_config\u001b[39m=\u001b[39;49m\u001b[39m\"\u001b[39;49m\u001b[39msolver.toml\u001b[39;49m\u001b[39m\"\u001b[39;49m)\n",
      "File \u001b[0;32m~/code/process/process/main.py:282\u001b[0m, in \u001b[0;36mVaryRun.__init__\u001b[0;34m(self, config_file, solver, solver_config)\u001b[0m\n\u001b[1;32m    279\u001b[0m \u001b[39m# Store the absolute path to the config file immediately: various\u001b[39;00m\n\u001b[1;32m    280\u001b[0m \u001b[39m# dir changes happen in old run_process code\u001b[39;00m\n\u001b[1;32m    281\u001b[0m \u001b[39mself\u001b[39m\u001b[39m.\u001b[39mconfig_file \u001b[39m=\u001b[39m Path(config_file)\u001b[39m.\u001b[39mresolve()\n\u001b[0;32m--> 282\u001b[0m \u001b[39mself\u001b[39;49m\u001b[39m.\u001b[39;49mrun(solver, solver_config)\n",
      "File \u001b[0;32m~/code/process/process/main.py:326\u001b[0m, in \u001b[0;36mVaryRun.run\u001b[0;34m(self, solver, solver_config)\u001b[0m\n\u001b[1;32m    316\u001b[0m \u001b[39mprint\u001b[39m(i, end\u001b[39m=\u001b[39m\u001b[39m\"\u001b[39m\u001b[39m \u001b[39m\u001b[39m\"\u001b[39m)\n\u001b[1;32m    318\u001b[0m \u001b[39m# Run single runs (SingleRun()) of process as subprocesses. This\u001b[39;00m\n\u001b[1;32m    319\u001b[0m \u001b[39m# is the only way to deal with Fortran \"stop\" statements when\u001b[39;00m\n\u001b[1;32m    320\u001b[0m \u001b[39m# running VaryRun(), which otherwise cause the Python\u001b[39;00m\n\u001b[0;32m   (...)\u001b[0m\n\u001b[1;32m    324\u001b[0m \u001b[39m# handle error codes\u001b[39;00m\n\u001b[1;32m    325\u001b[0m \u001b[39m# Run process on an IN.DAT file\u001b[39;00m\n\u001b[0;32m--> 326\u001b[0m config\u001b[39m.\u001b[39;49mrun_process(input_path, solver, solver_config)\n\u001b[1;32m    328\u001b[0m check_input_error(wdir\u001b[39m=\u001b[39mwdir)\n\u001b[1;32m    330\u001b[0m \u001b[39mif\u001b[39;00m \u001b[39mnot\u001b[39;00m process_stopped():\n",
      "File \u001b[0;32m~/code/process/process/io/process_config.py:314\u001b[0m, in \u001b[0;36mProcessConfig.run_process\u001b[0;34m(self, input_path, solver, solver_config)\u001b[0m\n\u001b[1;32m    310\u001b[0m \u001b[39mprint\u001b[39m(\u001b[39m\"\u001b[39m\u001b[39mPROCESS run started ...\u001b[39m\u001b[39m\"\u001b[39m, end\u001b[39m=\u001b[39m\u001b[39m\"\u001b[39m\u001b[39m\"\u001b[39m)\n\u001b[1;32m    312\u001b[0m \u001b[39mtry\u001b[39;00m:\n\u001b[1;32m    313\u001b[0m     \u001b[39m# Run process on an IN.DAT file\u001b[39;00m\n\u001b[0;32m--> 314\u001b[0m     subprocess\u001b[39m.\u001b[39;49mcheck_call(\n\u001b[1;32m    315\u001b[0m         [\n\u001b[1;32m    316\u001b[0m             \u001b[39m\"\u001b[39;49m\u001b[39mprocess\u001b[39;49m\u001b[39m\"\u001b[39;49m,\n\u001b[1;32m    317\u001b[0m             \u001b[39m\"\u001b[39;49m\u001b[39m-i\u001b[39;49m\u001b[39m\"\u001b[39;49m,\n\u001b[1;32m    318\u001b[0m             \u001b[39mstr\u001b[39;49m(input_path),\n\u001b[1;32m    319\u001b[0m             \u001b[39m\"\u001b[39;49m\u001b[39m--solver\u001b[39;49m\u001b[39m\"\u001b[39;49m,\n\u001b[1;32m    320\u001b[0m             solver,\n\u001b[1;32m    321\u001b[0m             \u001b[39m\"\u001b[39;49m\u001b[39m--solver-config\u001b[39;49m\u001b[39m\"\u001b[39;49m,\n\u001b[1;32m    322\u001b[0m             solver_config,\n\u001b[1;32m    323\u001b[0m         ],\n\u001b[1;32m    324\u001b[0m         stdout\u001b[39m=\u001b[39;49mout_logfile,\n\u001b[1;32m    325\u001b[0m         stderr\u001b[39m=\u001b[39;49merr_logfile,\n\u001b[1;32m    326\u001b[0m     )\n\u001b[1;32m    327\u001b[0m \u001b[39mexcept\u001b[39;00m subprocess\u001b[39m.\u001b[39mCalledProcessError \u001b[39mas\u001b[39;00m err:\n\u001b[1;32m    328\u001b[0m     \u001b[39m# Process has exited with a non-zero exit code. This is likely to\u001b[39;00m\n\u001b[1;32m    329\u001b[0m     \u001b[39m# be due to hitting a \"stop 1\" in the Fortran. Catch this exception\u001b[39;00m\n\u001b[1;32m    330\u001b[0m     \u001b[39m# to allow execution to continue without exiting\u001b[39;00m\n\u001b[1;32m    331\u001b[0m     \u001b[39mprint\u001b[39m(\u001b[39m\"\u001b[39m\u001b[39mError: There was a problem with the PROCESS execution!\u001b[39m\u001b[39m\"\u001b[39m)\n",
      "File \u001b[0;32m~/anaconda3/envs/process/lib/python3.10/subprocess.py:364\u001b[0m, in \u001b[0;36mcheck_call\u001b[0;34m(*popenargs, **kwargs)\u001b[0m\n\u001b[1;32m    354\u001b[0m \u001b[39mdef\u001b[39;00m \u001b[39mcheck_call\u001b[39m(\u001b[39m*\u001b[39mpopenargs, \u001b[39m*\u001b[39m\u001b[39m*\u001b[39mkwargs):\n\u001b[1;32m    355\u001b[0m \u001b[39m    \u001b[39m\u001b[39m\"\"\"Run command with arguments.  Wait for command to complete.  If\u001b[39;00m\n\u001b[1;32m    356\u001b[0m \u001b[39m    the exit code was zero then return, otherwise raise\u001b[39;00m\n\u001b[1;32m    357\u001b[0m \u001b[39m    CalledProcessError.  The CalledProcessError object will have the\u001b[39;00m\n\u001b[0;32m   (...)\u001b[0m\n\u001b[1;32m    362\u001b[0m \u001b[39m    check_call([\"ls\", \"-l\"])\u001b[39;00m\n\u001b[1;32m    363\u001b[0m \u001b[39m    \"\"\"\u001b[39;00m\n\u001b[0;32m--> 364\u001b[0m     retcode \u001b[39m=\u001b[39m call(\u001b[39m*\u001b[39;49mpopenargs, \u001b[39m*\u001b[39;49m\u001b[39m*\u001b[39;49mkwargs)\n\u001b[1;32m    365\u001b[0m     \u001b[39mif\u001b[39;00m retcode:\n\u001b[1;32m    366\u001b[0m         cmd \u001b[39m=\u001b[39m kwargs\u001b[39m.\u001b[39mget(\u001b[39m\"\u001b[39m\u001b[39margs\u001b[39m\u001b[39m\"\u001b[39m)\n",
      "File \u001b[0;32m~/anaconda3/envs/process/lib/python3.10/subprocess.py:347\u001b[0m, in \u001b[0;36mcall\u001b[0;34m(timeout, *popenargs, **kwargs)\u001b[0m\n\u001b[1;32m    345\u001b[0m \u001b[39mwith\u001b[39;00m Popen(\u001b[39m*\u001b[39mpopenargs, \u001b[39m*\u001b[39m\u001b[39m*\u001b[39mkwargs) \u001b[39mas\u001b[39;00m p:\n\u001b[1;32m    346\u001b[0m     \u001b[39mtry\u001b[39;00m:\n\u001b[0;32m--> 347\u001b[0m         \u001b[39mreturn\u001b[39;00m p\u001b[39m.\u001b[39;49mwait(timeout\u001b[39m=\u001b[39;49mtimeout)\n\u001b[1;32m    348\u001b[0m     \u001b[39mexcept\u001b[39;00m:  \u001b[39m# Including KeyboardInterrupt, wait handled that.\u001b[39;00m\n\u001b[1;32m    349\u001b[0m         p\u001b[39m.\u001b[39mkill()\n",
      "File \u001b[0;32m~/anaconda3/envs/process/lib/python3.10/subprocess.py:1209\u001b[0m, in \u001b[0;36mPopen.wait\u001b[0;34m(self, timeout)\u001b[0m\n\u001b[1;32m   1207\u001b[0m     endtime \u001b[39m=\u001b[39m _time() \u001b[39m+\u001b[39m timeout\n\u001b[1;32m   1208\u001b[0m \u001b[39mtry\u001b[39;00m:\n\u001b[0;32m-> 1209\u001b[0m     \u001b[39mreturn\u001b[39;00m \u001b[39mself\u001b[39;49m\u001b[39m.\u001b[39;49m_wait(timeout\u001b[39m=\u001b[39;49mtimeout)\n\u001b[1;32m   1210\u001b[0m \u001b[39mexcept\u001b[39;00m \u001b[39mKeyboardInterrupt\u001b[39;00m:\n\u001b[1;32m   1211\u001b[0m     \u001b[39m# https://bugs.python.org/issue25942\u001b[39;00m\n\u001b[1;32m   1212\u001b[0m     \u001b[39m# The first keyboard interrupt waits briefly for the child to\u001b[39;00m\n\u001b[1;32m   1213\u001b[0m     \u001b[39m# exit under the common assumption that it also received the ^C\u001b[39;00m\n\u001b[1;32m   1214\u001b[0m     \u001b[39m# generated SIGINT and will exit rapidly.\u001b[39;00m\n\u001b[1;32m   1215\u001b[0m     \u001b[39mif\u001b[39;00m timeout \u001b[39mis\u001b[39;00m \u001b[39mnot\u001b[39;00m \u001b[39mNone\u001b[39;00m:\n",
      "File \u001b[0;32m~/anaconda3/envs/process/lib/python3.10/subprocess.py:1943\u001b[0m, in \u001b[0;36mPopen._wait\u001b[0;34m(self, timeout)\u001b[0m\n\u001b[1;32m   1941\u001b[0m \u001b[39mif\u001b[39;00m \u001b[39mself\u001b[39m\u001b[39m.\u001b[39mreturncode \u001b[39mis\u001b[39;00m \u001b[39mnot\u001b[39;00m \u001b[39mNone\u001b[39;00m:\n\u001b[1;32m   1942\u001b[0m     \u001b[39mbreak\u001b[39;00m  \u001b[39m# Another thread waited.\u001b[39;00m\n\u001b[0;32m-> 1943\u001b[0m (pid, sts) \u001b[39m=\u001b[39m \u001b[39mself\u001b[39;49m\u001b[39m.\u001b[39;49m_try_wait(\u001b[39m0\u001b[39;49m)\n\u001b[1;32m   1944\u001b[0m \u001b[39m# Check the pid and loop as waitpid has been known to\u001b[39;00m\n\u001b[1;32m   1945\u001b[0m \u001b[39m# return 0 even without WNOHANG in odd situations.\u001b[39;00m\n\u001b[1;32m   1946\u001b[0m \u001b[39m# http://bugs.python.org/issue14396.\u001b[39;00m\n\u001b[1;32m   1947\u001b[0m \u001b[39mif\u001b[39;00m pid \u001b[39m==\u001b[39m \u001b[39mself\u001b[39m\u001b[39m.\u001b[39mpid:\n",
      "File \u001b[0;32m~/anaconda3/envs/process/lib/python3.10/subprocess.py:1901\u001b[0m, in \u001b[0;36mPopen._try_wait\u001b[0;34m(self, wait_flags)\u001b[0m\n\u001b[1;32m   1899\u001b[0m \u001b[39m\u001b[39m\u001b[39m\"\"\"All callers to this function MUST hold self._waitpid_lock.\"\"\"\u001b[39;00m\n\u001b[1;32m   1900\u001b[0m \u001b[39mtry\u001b[39;00m:\n\u001b[0;32m-> 1901\u001b[0m     (pid, sts) \u001b[39m=\u001b[39m os\u001b[39m.\u001b[39;49mwaitpid(\u001b[39mself\u001b[39;49m\u001b[39m.\u001b[39;49mpid, wait_flags)\n\u001b[1;32m   1902\u001b[0m \u001b[39mexcept\u001b[39;00m \u001b[39mChildProcessError\u001b[39;00m:\n\u001b[1;32m   1903\u001b[0m     \u001b[39m# This happens if SIGCLD is set to be ignored or waiting\u001b[39;00m\n\u001b[1;32m   1904\u001b[0m     \u001b[39m# for child processes has otherwise been disabled for our\u001b[39;00m\n\u001b[1;32m   1905\u001b[0m     \u001b[39m# process.  This child is dead, we can't get the status.\u001b[39;00m\n\u001b[1;32m   1906\u001b[0m     pid \u001b[39m=\u001b[39m \u001b[39mself\u001b[39m\u001b[39m.\u001b[39mpid\n",
      "\u001b[0;31mKeyboardInterrupt\u001b[0m: "
     ]
    }
   ],
   "source": [
    "CONF_PATH = Path(\"run_process.conf\")\n",
    "\n",
    "vary_run = VaryRun(str(CONF_PATH), solver_config=\"solver.toml\")"
   ]
  }
 ],
 "metadata": {
  "kernelspec": {
   "display_name": "process",
   "language": "python",
   "name": "python3"
  },
  "language_info": {
   "codemirror_mode": {
    "name": "ipython",
    "version": 3
   },
   "file_extension": ".py",
   "mimetype": "text/x-python",
   "name": "python",
   "nbconvert_exporter": "python",
   "pygments_lexer": "ipython3",
   "version": "3.10.9"
  },
  "orig_nbformat": 4
 },
 "nbformat": 4,
 "nbformat_minor": 2
}
