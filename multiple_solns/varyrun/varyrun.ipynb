{
 "cells": [
  {
   "cell_type": "code",
   "execution_count": null,
   "metadata": {},
   "outputs": [],
   "source": [
    "\"\"\"Using SLSQP, perform a VaryRun for a given scenario.\"\"\"\n",
    "\n",
    "# Reload Process each time (keep editable install up-to-date)\n",
    "%load_ext autoreload\n",
    "%autoreload 2\n",
    "\n",
    "from process.main import VaryRun\n",
    "from pathlib import Path\n",
    "import process\n",
    "\n",
    "INPUT_PATH = Path(\"generic_demo_IN.DAT\")\n",
    "CONF_PATH = Path(\"run_process.conf\")\n",
    "\n",
    "vary_run = VaryRun(str(CONF_PATH), solver=\"scipy\")\n"
   ]
  }
 ],
 "metadata": {
  "kernelspec": {
   "display_name": "process",
   "language": "python",
   "name": "python3"
  },
  "language_info": {
   "name": "python",
   "version": "3.10.9"
  },
  "orig_nbformat": 4
 },
 "nbformat": 4,
 "nbformat_minor": 2
}
