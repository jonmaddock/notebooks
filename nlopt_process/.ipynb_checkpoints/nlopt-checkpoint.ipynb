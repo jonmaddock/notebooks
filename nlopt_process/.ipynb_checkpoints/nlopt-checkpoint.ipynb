{
 "cells": [
  {
   "cell_type": "markdown",
   "metadata": {},
   "source": [
    "# nlopt investigation\n",
    "\n",
    "Explore regression tests in PROCESS using the `nlopt` package.\n",
    "\n",
    "Firstly, import functions to run different solvers and compare solutions"
   ]
  },
  {
   "cell_type": "code",
   "execution_count": 1,
   "metadata": {},
   "outputs": [],
   "source": [
    "import plot_solvers as ps"
   ]
  },
  {
   "cell_type": "markdown",
   "metadata": {},
   "source": [
    "## Baseline 2017 comparison\n",
    "\n",
    "### nlopt against regression reference\n",
    "\n",
    "Copy the baseline 2017 regression reference mfile to the CWD, then run the baseline 2017 input file with nlopt."
   ]
  },
  {
   "cell_type": "code",
   "execution_count": null,
   "metadata": {},
   "outputs": [
    {
     "ename": "",
     "evalue": "",
     "output_type": "error",
     "traceback": [
      "\u001b[1;31mFailed to start the Kernel. \n",
      "\u001b[1;31mTraceback (most recent call last):\n",
      "\u001b[1;31m  File \"/home/jon/.vscode/extensions/ms-toolsai.jupyter-2022.9.1202862440/pythonFiles/vscode_datascience_helpers/jupyter_daemon.py\", line 158, in _start_notebook\n",
      "\u001b[1;31m    from notebook import notebookapp as app\n",
      "\u001b[1;31m  File \"/home/jon/.local/lib/python3.8/site-packages/notebook/notebookapp.py\", line 80, in <module>\n",
      "\u001b[1;31m    from .services.contents.manager import ContentsManager\n",
      "\u001b[1;31m  File \"/home/jon/.local/lib/python3.8/site-packages/notebook/services/contents/manager.py\", line 17, in <module>\n",
      "\u001b[1;31m    from nbformat import sign, validate as validate_nb, ValidationError\n",
      "\u001b[1;31m  File \"/home/jon/.local/lib/python3.8/site-packages/nbformat/__init__.py\", line 32, in <module>\n",
      "\u001b[1;31m    from .validator import validate, ValidationError\n",
      "\u001b[1;31m  File \"/home/jon/.local/lib/python3.8/site-packages/nbformat/validator.py\", line 12, in <module>\n",
      "\u001b[1;31m    from .json_compat import get_current_validator, ValidationError\n",
      "\u001b[1;31m  File \"/home/jon/.local/lib/python3.8/site-packages/nbformat/json_compat.py\", line 10, in <module>\n",
      "\u001b[1;31m    import jsonschema\n",
      "\u001b[1;31m  File \"/home/jon/.local/lib/python3.8/site-packages/jsonschema/__init__.py\", line 12, in <module>\n",
      "\u001b[1;31m    from jsonschema._format import (\n",
      "\u001b[1;31m  File \"/home/jon/.local/lib/python3.8/site-packages/jsonschema/_format.py\", line 7, in <module>\n",
      "\u001b[1;31m    from jsonschema.exceptions import FormatError\n",
      "\u001b[1;31m  File \"/home/jon/.local/lib/python3.8/site-packages/jsonschema/exceptions.py\", line 11, in <module>\n",
      "\u001b[1;31m    from jsonschema import _utils\n",
      "\u001b[1;31m  File \"/home/jon/.local/lib/python3.8/site-packages/jsonschema/_utils.py\", line 12, in <module>\n",
      "\u001b[1;31m    import importlib_resources as resources\n",
      "\u001b[1;31m  File \"/home/jon/.local/lib/python3.8/site-packages/importlib_resources/__init__.py\", line 3, in <module>\n",
      "\u001b[1;31m    from ._common import (\n",
      "\u001b[1;31m  File \"/home/jon/.local/lib/python3.8/site-packages/importlib_resources/_common.py\", line 10, in <module>\n",
      "\u001b[1;31m    from .abc import ResourceReader, Traversable\n",
      "\u001b[1;31m  File \"/home/jon/.local/lib/python3.8/site-packages/importlib_resources/abc.py\", line 4, in <module>\n",
      "\u001b[1;31m    from ._compat import runtime_checkable, Protocol\n",
      "\u001b[1;31m  File \"/home/jon/.local/lib/python3.8/site-packages/importlib_resources/_compat.py\", line 11, in <module>\n",
      "\u001b[1;31m    from zipp import Path as ZipPath  # type: ignore\n",
      "\u001b[1;31mModuleNotFoundError: No module named 'zipp'\n",
      "\u001b[1;31m\n",
      "\u001b[1;31mDuring handling of the above exception, another exception occurred:\n",
      "\u001b[1;31m\n",
      "\u001b[1;31mTraceback (most recent call last):\n",
      "\u001b[1;31m  File \"/home/jon/.vscode/extensions/ms-toolsai.jupyter-2022.9.1202862440/pythonFiles/vscode_datascience_helpers/daemon/daemon_python.py\", line 54, in _decorator\n",
      "\u001b[1;31m    return func(self, *args, **kwargs)\n",
      "\u001b[1;31m  File \"/home/jon/.vscode/extensions/ms-toolsai.jupyter-2022.9.1202862440/pythonFiles/vscode_datascience_helpers/jupyter_daemon.py\", line 111, in m_exec_module_observable\n",
      "\u001b[1;31m    self._start_notebook(args, cwd, env)\n",
      "\u001b[1;31m  File \"/home/jon/.vscode/extensions/ms-toolsai.jupyter-2022.9.1202862440/pythonFiles/vscode_datascience_helpers/jupyter_daemon.py\", line 160, in _start_notebook\n",
      "\u001b[1;31m    from notebook import app as app\n",
      "\u001b[1;31mImportError: cannot import name 'app' from 'notebook' (/home/jon/.local/lib/python3.8/site-packages/notebook/__init__.py)\n",
      "\u001b[1;31m\n",
      "\u001b[1;31mFailed to run jupyter as observable with args notebook --no-browser --notebook-dir=\"/home/jon/code/notebooks/nlopt_process\" --config=/tmp/e681c2b4-ae14-4208-81a7-7a2760e1b342/jupyter_notebook_config.py --NotebookApp.iopub_data_rate_limit=10000000000.0. \n",
      "\u001b[1;31mView Jupyter <a href='command:jupyter.viewOutput'>log</a> for further details."
     ]
    }
   ],
   "source": [
    "# Copy baseline_jan_2017 regression reference mfile to CWD\n",
    "baseline_jan_2017_ref_mfile_path = copy_regression_ref(\"baseline_jan_2017\")\n",
    "# Run baseline_jan_2017 input using nlopt\n",
    "baseline_jan_2017_nlopt_mfile_path = run_input_file(\"baseline_jan_2017\", \"nlopt\")\n"
   ]
  },
  {
   "cell_type": "markdown",
   "metadata": {},
   "source": [
    "Plot the normalised values of the nlopt solution against the reference solution."
   ]
  },
  {
   "cell_type": "code",
   "execution_count": null,
   "metadata": {},
   "outputs": [
    {
     "ename": "",
     "evalue": "",
     "output_type": "error",
     "traceback": [
      "\u001b[1;31mFailed to start the Kernel. \n",
      "\u001b[1;31mTraceback (most recent call last):\n",
      "\u001b[1;31m  File \"/home/jon/.vscode/extensions/ms-toolsai.jupyter-2022.9.1202862440/pythonFiles/vscode_datascience_helpers/jupyter_daemon.py\", line 158, in _start_notebook\n",
      "\u001b[1;31m    from notebook import notebookapp as app\n",
      "\u001b[1;31m  File \"/home/jon/.local/lib/python3.8/site-packages/notebook/notebookapp.py\", line 80, in <module>\n",
      "\u001b[1;31m    from .services.contents.manager import ContentsManager\n",
      "\u001b[1;31m  File \"/home/jon/.local/lib/python3.8/site-packages/notebook/services/contents/manager.py\", line 17, in <module>\n",
      "\u001b[1;31m    from nbformat import sign, validate as validate_nb, ValidationError\n",
      "\u001b[1;31m  File \"/home/jon/.local/lib/python3.8/site-packages/nbformat/__init__.py\", line 32, in <module>\n",
      "\u001b[1;31m    from .validator import validate, ValidationError\n",
      "\u001b[1;31m  File \"/home/jon/.local/lib/python3.8/site-packages/nbformat/validator.py\", line 12, in <module>\n",
      "\u001b[1;31m    from .json_compat import get_current_validator, ValidationError\n",
      "\u001b[1;31m  File \"/home/jon/.local/lib/python3.8/site-packages/nbformat/json_compat.py\", line 10, in <module>\n",
      "\u001b[1;31m    import jsonschema\n",
      "\u001b[1;31m  File \"/home/jon/.local/lib/python3.8/site-packages/jsonschema/__init__.py\", line 12, in <module>\n",
      "\u001b[1;31m    from jsonschema._format import (\n",
      "\u001b[1;31m  File \"/home/jon/.local/lib/python3.8/site-packages/jsonschema/_format.py\", line 7, in <module>\n",
      "\u001b[1;31m    from jsonschema.exceptions import FormatError\n",
      "\u001b[1;31m  File \"/home/jon/.local/lib/python3.8/site-packages/jsonschema/exceptions.py\", line 11, in <module>\n",
      "\u001b[1;31m    from jsonschema import _utils\n",
      "\u001b[1;31m  File \"/home/jon/.local/lib/python3.8/site-packages/jsonschema/_utils.py\", line 12, in <module>\n",
      "\u001b[1;31m    import importlib_resources as resources\n",
      "\u001b[1;31m  File \"/home/jon/.local/lib/python3.8/site-packages/importlib_resources/__init__.py\", line 3, in <module>\n",
      "\u001b[1;31m    from ._common import (\n",
      "\u001b[1;31m  File \"/home/jon/.local/lib/python3.8/site-packages/importlib_resources/_common.py\", line 10, in <module>\n",
      "\u001b[1;31m    from .abc import ResourceReader, Traversable\n",
      "\u001b[1;31m  File \"/home/jon/.local/lib/python3.8/site-packages/importlib_resources/abc.py\", line 4, in <module>\n",
      "\u001b[1;31m    from ._compat import runtime_checkable, Protocol\n",
      "\u001b[1;31m  File \"/home/jon/.local/lib/python3.8/site-packages/importlib_resources/_compat.py\", line 11, in <module>\n",
      "\u001b[1;31m    from zipp import Path as ZipPath  # type: ignore\n",
      "\u001b[1;31mModuleNotFoundError: No module named 'zipp'\n",
      "\u001b[1;31m\n",
      "\u001b[1;31mDuring handling of the above exception, another exception occurred:\n",
      "\u001b[1;31m\n",
      "\u001b[1;31mTraceback (most recent call last):\n",
      "\u001b[1;31m  File \"/home/jon/.vscode/extensions/ms-toolsai.jupyter-2022.9.1202862440/pythonFiles/vscode_datascience_helpers/daemon/daemon_python.py\", line 54, in _decorator\n",
      "\u001b[1;31m    return func(self, *args, **kwargs)\n",
      "\u001b[1;31m  File \"/home/jon/.vscode/extensions/ms-toolsai.jupyter-2022.9.1202862440/pythonFiles/vscode_datascience_helpers/jupyter_daemon.py\", line 111, in m_exec_module_observable\n",
      "\u001b[1;31m    self._start_notebook(args, cwd, env)\n",
      "\u001b[1;31m  File \"/home/jon/.vscode/extensions/ms-toolsai.jupyter-2022.9.1202862440/pythonFiles/vscode_datascience_helpers/jupyter_daemon.py\", line 160, in _start_notebook\n",
      "\u001b[1;31m    from notebook import app as app\n",
      "\u001b[1;31mImportError: cannot import name 'app' from 'notebook' (/home/jon/.local/lib/python3.8/site-packages/notebook/__init__.py)\n",
      "\u001b[1;31m\n",
      "\u001b[1;31mFailed to run jupyter as observable with args notebook --no-browser --notebook-dir=\"/home/jon/code/notebooks/nlopt_process\" --config=/tmp/e681c2b4-ae14-4208-81a7-7a2760e1b342/jupyter_notebook_config.py --NotebookApp.iopub_data_rate_limit=10000000000.0. \n",
      "\u001b[1;31mView Jupyter <a href='command:jupyter.viewOutput'>log</a> for further details."
     ]
    }
   ],
   "source": [
    "plot_solver_comparison(\n",
    "    baseline_jan_2017_ref_mfile_path,\n",
    "    baseline_jan_2017_nlopt_mfile_path,\n",
    "    \"Regression reference\",\n",
    "    \"nlopt\",\n",
    "    \"Baseline 2017 nlopt solution\",\n",
    "    percentage=False,\n",
    ")\n"
   ]
  },
  {
   "cell_type": "markdown",
   "metadata": {},
   "source": [
    "Generally nlopt produces a very similar solution to the reference solution, but iteration variables 23 and 24 show differences. In constraints equation 34, `vdalw` is the max voltage across TF coil during quench (kV) and `fvdump` is its corresponding f-value, corresponding to iteration variables 24 and 23 respectively. This is the main difference with the reference solution, but their values don't appear to affect the FOM much.\n",
    "\n",
    "However, instead of normalised iteration variable values, it might be more informative to plot percentage differences between the two solutions (like in regression tests)."
   ]
  },
  {
   "cell_type": "code",
   "execution_count": null,
   "metadata": {},
   "outputs": [
    {
     "ename": "",
     "evalue": "",
     "output_type": "error",
     "traceback": [
      "\u001b[1;31mFailed to start the Kernel. \n",
      "\u001b[1;31mTraceback (most recent call last):\n",
      "\u001b[1;31m  File \"/home/jon/.vscode/extensions/ms-toolsai.jupyter-2022.9.1202862440/pythonFiles/vscode_datascience_helpers/jupyter_daemon.py\", line 158, in _start_notebook\n",
      "\u001b[1;31m    from notebook import notebookapp as app\n",
      "\u001b[1;31m  File \"/home/jon/.local/lib/python3.8/site-packages/notebook/notebookapp.py\", line 80, in <module>\n",
      "\u001b[1;31m    from .services.contents.manager import ContentsManager\n",
      "\u001b[1;31m  File \"/home/jon/.local/lib/python3.8/site-packages/notebook/services/contents/manager.py\", line 17, in <module>\n",
      "\u001b[1;31m    from nbformat import sign, validate as validate_nb, ValidationError\n",
      "\u001b[1;31m  File \"/home/jon/.local/lib/python3.8/site-packages/nbformat/__init__.py\", line 32, in <module>\n",
      "\u001b[1;31m    from .validator import validate, ValidationError\n",
      "\u001b[1;31m  File \"/home/jon/.local/lib/python3.8/site-packages/nbformat/validator.py\", line 12, in <module>\n",
      "\u001b[1;31m    from .json_compat import get_current_validator, ValidationError\n",
      "\u001b[1;31m  File \"/home/jon/.local/lib/python3.8/site-packages/nbformat/json_compat.py\", line 10, in <module>\n",
      "\u001b[1;31m    import jsonschema\n",
      "\u001b[1;31m  File \"/home/jon/.local/lib/python3.8/site-packages/jsonschema/__init__.py\", line 12, in <module>\n",
      "\u001b[1;31m    from jsonschema._format import (\n",
      "\u001b[1;31m  File \"/home/jon/.local/lib/python3.8/site-packages/jsonschema/_format.py\", line 7, in <module>\n",
      "\u001b[1;31m    from jsonschema.exceptions import FormatError\n",
      "\u001b[1;31m  File \"/home/jon/.local/lib/python3.8/site-packages/jsonschema/exceptions.py\", line 11, in <module>\n",
      "\u001b[1;31m    from jsonschema import _utils\n",
      "\u001b[1;31m  File \"/home/jon/.local/lib/python3.8/site-packages/jsonschema/_utils.py\", line 12, in <module>\n",
      "\u001b[1;31m    import importlib_resources as resources\n",
      "\u001b[1;31m  File \"/home/jon/.local/lib/python3.8/site-packages/importlib_resources/__init__.py\", line 3, in <module>\n",
      "\u001b[1;31m    from ._common import (\n",
      "\u001b[1;31m  File \"/home/jon/.local/lib/python3.8/site-packages/importlib_resources/_common.py\", line 10, in <module>\n",
      "\u001b[1;31m    from .abc import ResourceReader, Traversable\n",
      "\u001b[1;31m  File \"/home/jon/.local/lib/python3.8/site-packages/importlib_resources/abc.py\", line 4, in <module>\n",
      "\u001b[1;31m    from ._compat import runtime_checkable, Protocol\n",
      "\u001b[1;31m  File \"/home/jon/.local/lib/python3.8/site-packages/importlib_resources/_compat.py\", line 11, in <module>\n",
      "\u001b[1;31m    from zipp import Path as ZipPath  # type: ignore\n",
      "\u001b[1;31mModuleNotFoundError: No module named 'zipp'\n",
      "\u001b[1;31m\n",
      "\u001b[1;31mDuring handling of the above exception, another exception occurred:\n",
      "\u001b[1;31m\n",
      "\u001b[1;31mTraceback (most recent call last):\n",
      "\u001b[1;31m  File \"/home/jon/.vscode/extensions/ms-toolsai.jupyter-2022.9.1202862440/pythonFiles/vscode_datascience_helpers/daemon/daemon_python.py\", line 54, in _decorator\n",
      "\u001b[1;31m    return func(self, *args, **kwargs)\n",
      "\u001b[1;31m  File \"/home/jon/.vscode/extensions/ms-toolsai.jupyter-2022.9.1202862440/pythonFiles/vscode_datascience_helpers/jupyter_daemon.py\", line 111, in m_exec_module_observable\n",
      "\u001b[1;31m    self._start_notebook(args, cwd, env)\n",
      "\u001b[1;31m  File \"/home/jon/.vscode/extensions/ms-toolsai.jupyter-2022.9.1202862440/pythonFiles/vscode_datascience_helpers/jupyter_daemon.py\", line 160, in _start_notebook\n",
      "\u001b[1;31m    from notebook import app as app\n",
      "\u001b[1;31mImportError: cannot import name 'app' from 'notebook' (/home/jon/.local/lib/python3.8/site-packages/notebook/__init__.py)\n",
      "\u001b[1;31m\n",
      "\u001b[1;31mFailed to run jupyter as observable with args notebook --no-browser --notebook-dir=\"/home/jon/code/notebooks/nlopt_process\" --config=/tmp/e681c2b4-ae14-4208-81a7-7a2760e1b342/jupyter_notebook_config.py --NotebookApp.iopub_data_rate_limit=10000000000.0. \n",
      "\u001b[1;31mView Jupyter <a href='command:jupyter.viewOutput'>log</a> for further details."
     ]
    }
   ],
   "source": [
    "plot_solver_comparison(\n",
    "    baseline_jan_2017_ref_mfile_path,\n",
    "    baseline_jan_2017_nlopt_mfile_path,\n",
    "    \"Regression reference\",\n",
    "    \"nlopt\",\n",
    "    \"Percentage difference of baseline 2017 nlopt and VMCON reference solution\",\n",
    ")\n"
   ]
  },
  {
   "cell_type": "markdown",
   "metadata": {},
   "source": [
    "This shows more clearly that the main difference between the reference and nlopt solutions for baseline 2017 is in iteration variables 23 and 24. Percentage difference solution comparisons will be used from this point on."
   ]
  },
  {
   "cell_type": "markdown",
   "metadata": {},
   "source": [
    "### nlopt compared against \"fixed\" VMCON run\n",
    "\n",
    "Some \"fixes\" to Process models were needed in order to get nlopt to run, as it frequently ran into un-evaluateable points when optimising. Therefore the \"fixed\" VMCON run will be compared against the regression reference result to determine the impact of these mitigating strategies on the VMCON result."
   ]
  },
  {
   "cell_type": "code",
   "execution_count": null,
   "metadata": {},
   "outputs": [
    {
     "ename": "",
     "evalue": "",
     "output_type": "error",
     "traceback": [
      "\u001b[1;31mFailed to start the Kernel. \n",
      "\u001b[1;31mTraceback (most recent call last):\n",
      "\u001b[1;31m  File \"/home/jon/.vscode/extensions/ms-toolsai.jupyter-2022.9.1202862440/pythonFiles/vscode_datascience_helpers/jupyter_daemon.py\", line 158, in _start_notebook\n",
      "\u001b[1;31m    from notebook import notebookapp as app\n",
      "\u001b[1;31m  File \"/home/jon/.local/lib/python3.8/site-packages/notebook/notebookapp.py\", line 80, in <module>\n",
      "\u001b[1;31m    from .services.contents.manager import ContentsManager\n",
      "\u001b[1;31m  File \"/home/jon/.local/lib/python3.8/site-packages/notebook/services/contents/manager.py\", line 17, in <module>\n",
      "\u001b[1;31m    from nbformat import sign, validate as validate_nb, ValidationError\n",
      "\u001b[1;31m  File \"/home/jon/.local/lib/python3.8/site-packages/nbformat/__init__.py\", line 32, in <module>\n",
      "\u001b[1;31m    from .validator import validate, ValidationError\n",
      "\u001b[1;31m  File \"/home/jon/.local/lib/python3.8/site-packages/nbformat/validator.py\", line 12, in <module>\n",
      "\u001b[1;31m    from .json_compat import get_current_validator, ValidationError\n",
      "\u001b[1;31m  File \"/home/jon/.local/lib/python3.8/site-packages/nbformat/json_compat.py\", line 10, in <module>\n",
      "\u001b[1;31m    import jsonschema\n",
      "\u001b[1;31m  File \"/home/jon/.local/lib/python3.8/site-packages/jsonschema/__init__.py\", line 12, in <module>\n",
      "\u001b[1;31m    from jsonschema._format import (\n",
      "\u001b[1;31m  File \"/home/jon/.local/lib/python3.8/site-packages/jsonschema/_format.py\", line 7, in <module>\n",
      "\u001b[1;31m    from jsonschema.exceptions import FormatError\n",
      "\u001b[1;31m  File \"/home/jon/.local/lib/python3.8/site-packages/jsonschema/exceptions.py\", line 11, in <module>\n",
      "\u001b[1;31m    from jsonschema import _utils\n",
      "\u001b[1;31m  File \"/home/jon/.local/lib/python3.8/site-packages/jsonschema/_utils.py\", line 12, in <module>\n",
      "\u001b[1;31m    import importlib_resources as resources\n",
      "\u001b[1;31m  File \"/home/jon/.local/lib/python3.8/site-packages/importlib_resources/__init__.py\", line 3, in <module>\n",
      "\u001b[1;31m    from ._common import (\n",
      "\u001b[1;31m  File \"/home/jon/.local/lib/python3.8/site-packages/importlib_resources/_common.py\", line 10, in <module>\n",
      "\u001b[1;31m    from .abc import ResourceReader, Traversable\n",
      "\u001b[1;31m  File \"/home/jon/.local/lib/python3.8/site-packages/importlib_resources/abc.py\", line 4, in <module>\n",
      "\u001b[1;31m    from ._compat import runtime_checkable, Protocol\n",
      "\u001b[1;31m  File \"/home/jon/.local/lib/python3.8/site-packages/importlib_resources/_compat.py\", line 11, in <module>\n",
      "\u001b[1;31m    from zipp import Path as ZipPath  # type: ignore\n",
      "\u001b[1;31mModuleNotFoundError: No module named 'zipp'\n",
      "\u001b[1;31m\n",
      "\u001b[1;31mDuring handling of the above exception, another exception occurred:\n",
      "\u001b[1;31m\n",
      "\u001b[1;31mTraceback (most recent call last):\n",
      "\u001b[1;31m  File \"/home/jon/.vscode/extensions/ms-toolsai.jupyter-2022.9.1202862440/pythonFiles/vscode_datascience_helpers/daemon/daemon_python.py\", line 54, in _decorator\n",
      "\u001b[1;31m    return func(self, *args, **kwargs)\n",
      "\u001b[1;31m  File \"/home/jon/.vscode/extensions/ms-toolsai.jupyter-2022.9.1202862440/pythonFiles/vscode_datascience_helpers/jupyter_daemon.py\", line 111, in m_exec_module_observable\n",
      "\u001b[1;31m    self._start_notebook(args, cwd, env)\n",
      "\u001b[1;31m  File \"/home/jon/.vscode/extensions/ms-toolsai.jupyter-2022.9.1202862440/pythonFiles/vscode_datascience_helpers/jupyter_daemon.py\", line 160, in _start_notebook\n",
      "\u001b[1;31m    from notebook import app as app\n",
      "\u001b[1;31mImportError: cannot import name 'app' from 'notebook' (/home/jon/.local/lib/python3.8/site-packages/notebook/__init__.py)\n",
      "\u001b[1;31m\n",
      "\u001b[1;31mFailed to run jupyter as observable with args notebook --no-browser --notebook-dir=\"/home/jon/code/notebooks/nlopt_process\" --config=/tmp/e681c2b4-ae14-4208-81a7-7a2760e1b342/jupyter_notebook_config.py --NotebookApp.iopub_data_rate_limit=10000000000.0. \n",
      "\u001b[1;31mView Jupyter <a href='command:jupyter.viewOutput'>log</a> for further details."
     ]
    }
   ],
   "source": [
    "# Run process on the baseline input file using vmcon\n",
    "baseline_jan_2017_vmcon_mfile_path = run_input_file(\"baseline_jan_2017\", \"legacy-vmcon\")\n",
    "plot_solver_comparison(\n",
    "    baseline_jan_2017_ref_mfile_path,\n",
    "    baseline_jan_2017_vmcon_mfile_path,\n",
    "    \"Regression reference\",\n",
    "    \"vmcon\",\n",
    "    \"Percentage difference of \\\"fixed\\\" baseline 2017 VMCON and VMCON reference solution\",\n",
    ")\n"
   ]
  },
  {
   "cell_type": "markdown",
   "metadata": {},
   "source": [
    "There appears to be no difference at all to the VMCON solution due to the mitigating strategies employed in models to allow nlopt to run.\n",
    "\n",
    "### nlopt against \"fixed\" VMCON\n",
    "\n",
    "Now compare VMCON against nlopt, both using the same \"fixed\" models."
   ]
  },
  {
   "cell_type": "code",
   "execution_count": null,
   "metadata": {},
   "outputs": [
    {
     "ename": "",
     "evalue": "",
     "output_type": "error",
     "traceback": [
      "\u001b[1;31mFailed to start the Kernel. \n",
      "\u001b[1;31mTraceback (most recent call last):\n",
      "\u001b[1;31m  File \"/home/jon/.vscode/extensions/ms-toolsai.jupyter-2022.9.1202862440/pythonFiles/vscode_datascience_helpers/jupyter_daemon.py\", line 158, in _start_notebook\n",
      "\u001b[1;31m    from notebook import notebookapp as app\n",
      "\u001b[1;31m  File \"/home/jon/.local/lib/python3.8/site-packages/notebook/notebookapp.py\", line 80, in <module>\n",
      "\u001b[1;31m    from .services.contents.manager import ContentsManager\n",
      "\u001b[1;31m  File \"/home/jon/.local/lib/python3.8/site-packages/notebook/services/contents/manager.py\", line 17, in <module>\n",
      "\u001b[1;31m    from nbformat import sign, validate as validate_nb, ValidationError\n",
      "\u001b[1;31m  File \"/home/jon/.local/lib/python3.8/site-packages/nbformat/__init__.py\", line 32, in <module>\n",
      "\u001b[1;31m    from .validator import validate, ValidationError\n",
      "\u001b[1;31m  File \"/home/jon/.local/lib/python3.8/site-packages/nbformat/validator.py\", line 12, in <module>\n",
      "\u001b[1;31m    from .json_compat import get_current_validator, ValidationError\n",
      "\u001b[1;31m  File \"/home/jon/.local/lib/python3.8/site-packages/nbformat/json_compat.py\", line 10, in <module>\n",
      "\u001b[1;31m    import jsonschema\n",
      "\u001b[1;31m  File \"/home/jon/.local/lib/python3.8/site-packages/jsonschema/__init__.py\", line 12, in <module>\n",
      "\u001b[1;31m    from jsonschema._format import (\n",
      "\u001b[1;31m  File \"/home/jon/.local/lib/python3.8/site-packages/jsonschema/_format.py\", line 7, in <module>\n",
      "\u001b[1;31m    from jsonschema.exceptions import FormatError\n",
      "\u001b[1;31m  File \"/home/jon/.local/lib/python3.8/site-packages/jsonschema/exceptions.py\", line 11, in <module>\n",
      "\u001b[1;31m    from jsonschema import _utils\n",
      "\u001b[1;31m  File \"/home/jon/.local/lib/python3.8/site-packages/jsonschema/_utils.py\", line 12, in <module>\n",
      "\u001b[1;31m    import importlib_resources as resources\n",
      "\u001b[1;31m  File \"/home/jon/.local/lib/python3.8/site-packages/importlib_resources/__init__.py\", line 3, in <module>\n",
      "\u001b[1;31m    from ._common import (\n",
      "\u001b[1;31m  File \"/home/jon/.local/lib/python3.8/site-packages/importlib_resources/_common.py\", line 10, in <module>\n",
      "\u001b[1;31m    from .abc import ResourceReader, Traversable\n",
      "\u001b[1;31m  File \"/home/jon/.local/lib/python3.8/site-packages/importlib_resources/abc.py\", line 4, in <module>\n",
      "\u001b[1;31m    from ._compat import runtime_checkable, Protocol\n",
      "\u001b[1;31m  File \"/home/jon/.local/lib/python3.8/site-packages/importlib_resources/_compat.py\", line 11, in <module>\n",
      "\u001b[1;31m    from zipp import Path as ZipPath  # type: ignore\n",
      "\u001b[1;31mModuleNotFoundError: No module named 'zipp'\n",
      "\u001b[1;31m\n",
      "\u001b[1;31mDuring handling of the above exception, another exception occurred:\n",
      "\u001b[1;31m\n",
      "\u001b[1;31mTraceback (most recent call last):\n",
      "\u001b[1;31m  File \"/home/jon/.vscode/extensions/ms-toolsai.jupyter-2022.9.1202862440/pythonFiles/vscode_datascience_helpers/daemon/daemon_python.py\", line 54, in _decorator\n",
      "\u001b[1;31m    return func(self, *args, **kwargs)\n",
      "\u001b[1;31m  File \"/home/jon/.vscode/extensions/ms-toolsai.jupyter-2022.9.1202862440/pythonFiles/vscode_datascience_helpers/jupyter_daemon.py\", line 111, in m_exec_module_observable\n",
      "\u001b[1;31m    self._start_notebook(args, cwd, env)\n",
      "\u001b[1;31m  File \"/home/jon/.vscode/extensions/ms-toolsai.jupyter-2022.9.1202862440/pythonFiles/vscode_datascience_helpers/jupyter_daemon.py\", line 160, in _start_notebook\n",
      "\u001b[1;31m    from notebook import app as app\n",
      "\u001b[1;31mImportError: cannot import name 'app' from 'notebook' (/home/jon/.local/lib/python3.8/site-packages/notebook/__init__.py)\n",
      "\u001b[1;31m\n",
      "\u001b[1;31mFailed to run jupyter as observable with args notebook --no-browser --notebook-dir=\"/home/jon/code/notebooks/nlopt_process\" --config=/tmp/e681c2b4-ae14-4208-81a7-7a2760e1b342/jupyter_notebook_config.py --NotebookApp.iopub_data_rate_limit=10000000000.0. \n",
      "\u001b[1;31mView Jupyter <a href='command:jupyter.viewOutput'>log</a> for further details."
     ]
    }
   ],
   "source": [
    "plot_solver_comparison(\n",
    "    baseline_jan_2017_vmcon_mfile_path,\n",
    "    baseline_jan_2017_nlopt_mfile_path,\n",
    "    \"vmcon\",\n",
    "    \"nlopt\",\n",
    "    \"Percentage difference of \\\"fixed\\\" baseline 2017 VMCON and nlopt\"\n",
    ")\n"
   ]
  },
  {
   "cell_type": "markdown",
   "metadata": {},
   "source": [
    "The dominating difference is again due to optimisation parameters 23 and 24. Otherwise, the VMCON and nlopt solutions appear very similar for baseline 2017.\n",
    "\n",
    "## Tolerances\n",
    "\n",
    "The above nlopt runs were performed with high tolerances (1e-3 for the Augmented Lagrangian optimiser, 1e-5 for the constraints and 1e-8 for the subsidary optimiser (SLSQP)). VMCON operates with a 1e-6 tolerance for its Augmented Lagrangian optimiser, but the other tolerances are not obvious and are currently unknown.\n",
    "\n",
    "In order to assist with comparisons between solutions, it would be meaningful to quote the convergence parameter and constraint residuals when comparing solutions from nlopt and VMCON.\n",
    "\n",
    "### Convergence parameter and constraint residuals\n",
    "\n",
    "Constraint residuals can easily be calculated and nlopt solutions compared with VMCON. The convergence parameters are harder to compare, as this requires the Lagrange multipliers which aren't accessible in nlopt, and would need to be calculated separately.\n",
    "\n",
    "In the previous nlopt solution for baseline 2017, the result was:\n",
    "\n",
    "```\n",
    "Iteration 1130, objective function = 1.8923, constraint residuals = 1.257e-05\n",
    "```\n",
    "\n",
    "The individual constraint tolerances were set to 1e-5. The total (equality) constraint residuals = 1.257e-05.\n",
    "Optimisation terminated because `result=3`; `NLOPT_FTOL_REACHED`, which means that either the relative or absolute tolerance on the objective function was reached. \n",
    "\n",
    "In contrast, the VMCON solution was:\n",
    "\n",
    "```\n",
    "=>   19  vmcon iterations. Normalised FoM =  1.8922  Residuals (sqsumsq) = 1.9E-10  Convergence param = 6.4E-11\n",
    "```\n",
    "\n",
    "The figure of merits are very similar, but VMCON's residuals are much lower. As mentioned above, the convergence parameter can't easily be compared with nlopt. It would be preferable to get nlopt's constraint residuals comparable to VMCON's.\n",
    "\n",
    "### Lowering nlopt tolerances\n",
    "\n",
    "Need something here...\n",
    "\n",
    "## Other regression tests\n",
    "\n",
    "Many other regression test fail for a variety of reasons. However, try ITER:"
   ]
  },
  {
   "cell_type": "code",
   "execution_count": null,
   "metadata": {},
   "outputs": [
    {
     "ename": "",
     "evalue": "",
     "output_type": "error",
     "traceback": [
      "\u001b[1;31mFailed to start the Kernel. \n",
      "\u001b[1;31mTraceback (most recent call last):\n",
      "\u001b[1;31m  File \"/home/jon/.vscode/extensions/ms-toolsai.jupyter-2022.9.1202862440/pythonFiles/vscode_datascience_helpers/jupyter_daemon.py\", line 158, in _start_notebook\n",
      "\u001b[1;31m    from notebook import notebookapp as app\n",
      "\u001b[1;31m  File \"/home/jon/.local/lib/python3.8/site-packages/notebook/notebookapp.py\", line 80, in <module>\n",
      "\u001b[1;31m    from .services.contents.manager import ContentsManager\n",
      "\u001b[1;31m  File \"/home/jon/.local/lib/python3.8/site-packages/notebook/services/contents/manager.py\", line 17, in <module>\n",
      "\u001b[1;31m    from nbformat import sign, validate as validate_nb, ValidationError\n",
      "\u001b[1;31m  File \"/home/jon/.local/lib/python3.8/site-packages/nbformat/__init__.py\", line 32, in <module>\n",
      "\u001b[1;31m    from .validator import validate, ValidationError\n",
      "\u001b[1;31m  File \"/home/jon/.local/lib/python3.8/site-packages/nbformat/validator.py\", line 12, in <module>\n",
      "\u001b[1;31m    from .json_compat import get_current_validator, ValidationError\n",
      "\u001b[1;31m  File \"/home/jon/.local/lib/python3.8/site-packages/nbformat/json_compat.py\", line 10, in <module>\n",
      "\u001b[1;31m    import jsonschema\n",
      "\u001b[1;31m  File \"/home/jon/.local/lib/python3.8/site-packages/jsonschema/__init__.py\", line 12, in <module>\n",
      "\u001b[1;31m    from jsonschema._format import (\n",
      "\u001b[1;31m  File \"/home/jon/.local/lib/python3.8/site-packages/jsonschema/_format.py\", line 7, in <module>\n",
      "\u001b[1;31m    from jsonschema.exceptions import FormatError\n",
      "\u001b[1;31m  File \"/home/jon/.local/lib/python3.8/site-packages/jsonschema/exceptions.py\", line 11, in <module>\n",
      "\u001b[1;31m    from jsonschema import _utils\n",
      "\u001b[1;31m  File \"/home/jon/.local/lib/python3.8/site-packages/jsonschema/_utils.py\", line 12, in <module>\n",
      "\u001b[1;31m    import importlib_resources as resources\n",
      "\u001b[1;31m  File \"/home/jon/.local/lib/python3.8/site-packages/importlib_resources/__init__.py\", line 3, in <module>\n",
      "\u001b[1;31m    from ._common import (\n",
      "\u001b[1;31m  File \"/home/jon/.local/lib/python3.8/site-packages/importlib_resources/_common.py\", line 10, in <module>\n",
      "\u001b[1;31m    from .abc import ResourceReader, Traversable\n",
      "\u001b[1;31m  File \"/home/jon/.local/lib/python3.8/site-packages/importlib_resources/abc.py\", line 4, in <module>\n",
      "\u001b[1;31m    from ._compat import runtime_checkable, Protocol\n",
      "\u001b[1;31m  File \"/home/jon/.local/lib/python3.8/site-packages/importlib_resources/_compat.py\", line 11, in <module>\n",
      "\u001b[1;31m    from zipp import Path as ZipPath  # type: ignore\n",
      "\u001b[1;31mModuleNotFoundError: No module named 'zipp'\n",
      "\u001b[1;31m\n",
      "\u001b[1;31mDuring handling of the above exception, another exception occurred:\n",
      "\u001b[1;31m\n",
      "\u001b[1;31mTraceback (most recent call last):\n",
      "\u001b[1;31m  File \"/home/jon/.vscode/extensions/ms-toolsai.jupyter-2022.9.1202862440/pythonFiles/vscode_datascience_helpers/daemon/daemon_python.py\", line 54, in _decorator\n",
      "\u001b[1;31m    return func(self, *args, **kwargs)\n",
      "\u001b[1;31m  File \"/home/jon/.vscode/extensions/ms-toolsai.jupyter-2022.9.1202862440/pythonFiles/vscode_datascience_helpers/jupyter_daemon.py\", line 111, in m_exec_module_observable\n",
      "\u001b[1;31m    self._start_notebook(args, cwd, env)\n",
      "\u001b[1;31m  File \"/home/jon/.vscode/extensions/ms-toolsai.jupyter-2022.9.1202862440/pythonFiles/vscode_datascience_helpers/jupyter_daemon.py\", line 160, in _start_notebook\n",
      "\u001b[1;31m    from notebook import app as app\n",
      "\u001b[1;31mImportError: cannot import name 'app' from 'notebook' (/home/jon/.local/lib/python3.8/site-packages/notebook/__init__.py)\n",
      "\u001b[1;31m\n",
      "\u001b[1;31mFailed to run jupyter as observable with args notebook --no-browser --notebook-dir=\"/home/jon/code/notebooks/nlopt_process\" --config=/tmp/e681c2b4-ae14-4208-81a7-7a2760e1b342/jupyter_notebook_config.py --NotebookApp.iopub_data_rate_limit=10000000000.0. \n",
      "\u001b[1;31mView Jupyter <a href='command:jupyter.viewOutput'>log</a> for further details."
     ]
    }
   ],
   "source": [
    "# Run process on the iter input file using vmcon, then nlopt\n",
    "iter_vmcon_mfile_path = run_input_file(\"ITER\", \"legacy-vmcon\")\n",
    "iter_nlopt_mfile_path = run_input_file(\"ITER\", \"nlopt\")\n"
   ]
  },
  {
   "cell_type": "code",
   "execution_count": null,
   "metadata": {},
   "outputs": [
    {
     "ename": "",
     "evalue": "",
     "output_type": "error",
     "traceback": [
      "\u001b[1;31mFailed to start the Kernel. \n",
      "\u001b[1;31mTraceback (most recent call last):\n",
      "\u001b[1;31m  File \"/home/jon/.vscode/extensions/ms-toolsai.jupyter-2022.9.1202862440/pythonFiles/vscode_datascience_helpers/jupyter_daemon.py\", line 158, in _start_notebook\n",
      "\u001b[1;31m    from notebook import notebookapp as app\n",
      "\u001b[1;31m  File \"/home/jon/.local/lib/python3.8/site-packages/notebook/notebookapp.py\", line 80, in <module>\n",
      "\u001b[1;31m    from .services.contents.manager import ContentsManager\n",
      "\u001b[1;31m  File \"/home/jon/.local/lib/python3.8/site-packages/notebook/services/contents/manager.py\", line 17, in <module>\n",
      "\u001b[1;31m    from nbformat import sign, validate as validate_nb, ValidationError\n",
      "\u001b[1;31m  File \"/home/jon/.local/lib/python3.8/site-packages/nbformat/__init__.py\", line 32, in <module>\n",
      "\u001b[1;31m    from .validator import validate, ValidationError\n",
      "\u001b[1;31m  File \"/home/jon/.local/lib/python3.8/site-packages/nbformat/validator.py\", line 12, in <module>\n",
      "\u001b[1;31m    from .json_compat import get_current_validator, ValidationError\n",
      "\u001b[1;31m  File \"/home/jon/.local/lib/python3.8/site-packages/nbformat/json_compat.py\", line 10, in <module>\n",
      "\u001b[1;31m    import jsonschema\n",
      "\u001b[1;31m  File \"/home/jon/.local/lib/python3.8/site-packages/jsonschema/__init__.py\", line 12, in <module>\n",
      "\u001b[1;31m    from jsonschema._format import (\n",
      "\u001b[1;31m  File \"/home/jon/.local/lib/python3.8/site-packages/jsonschema/_format.py\", line 7, in <module>\n",
      "\u001b[1;31m    from jsonschema.exceptions import FormatError\n",
      "\u001b[1;31m  File \"/home/jon/.local/lib/python3.8/site-packages/jsonschema/exceptions.py\", line 11, in <module>\n",
      "\u001b[1;31m    from jsonschema import _utils\n",
      "\u001b[1;31m  File \"/home/jon/.local/lib/python3.8/site-packages/jsonschema/_utils.py\", line 12, in <module>\n",
      "\u001b[1;31m    import importlib_resources as resources\n",
      "\u001b[1;31m  File \"/home/jon/.local/lib/python3.8/site-packages/importlib_resources/__init__.py\", line 3, in <module>\n",
      "\u001b[1;31m    from ._common import (\n",
      "\u001b[1;31m  File \"/home/jon/.local/lib/python3.8/site-packages/importlib_resources/_common.py\", line 10, in <module>\n",
      "\u001b[1;31m    from .abc import ResourceReader, Traversable\n",
      "\u001b[1;31m  File \"/home/jon/.local/lib/python3.8/site-packages/importlib_resources/abc.py\", line 4, in <module>\n",
      "\u001b[1;31m    from ._compat import runtime_checkable, Protocol\n",
      "\u001b[1;31m  File \"/home/jon/.local/lib/python3.8/site-packages/importlib_resources/_compat.py\", line 11, in <module>\n",
      "\u001b[1;31m    from zipp import Path as ZipPath  # type: ignore\n",
      "\u001b[1;31mModuleNotFoundError: No module named 'zipp'\n",
      "\u001b[1;31m\n",
      "\u001b[1;31mDuring handling of the above exception, another exception occurred:\n",
      "\u001b[1;31m\n",
      "\u001b[1;31mTraceback (most recent call last):\n",
      "\u001b[1;31m  File \"/home/jon/.vscode/extensions/ms-toolsai.jupyter-2022.9.1202862440/pythonFiles/vscode_datascience_helpers/daemon/daemon_python.py\", line 54, in _decorator\n",
      "\u001b[1;31m    return func(self, *args, **kwargs)\n",
      "\u001b[1;31m  File \"/home/jon/.vscode/extensions/ms-toolsai.jupyter-2022.9.1202862440/pythonFiles/vscode_datascience_helpers/jupyter_daemon.py\", line 111, in m_exec_module_observable\n",
      "\u001b[1;31m    self._start_notebook(args, cwd, env)\n",
      "\u001b[1;31m  File \"/home/jon/.vscode/extensions/ms-toolsai.jupyter-2022.9.1202862440/pythonFiles/vscode_datascience_helpers/jupyter_daemon.py\", line 160, in _start_notebook\n",
      "\u001b[1;31m    from notebook import app as app\n",
      "\u001b[1;31mImportError: cannot import name 'app' from 'notebook' (/home/jon/.local/lib/python3.8/site-packages/notebook/__init__.py)\n",
      "\u001b[1;31m\n",
      "\u001b[1;31mFailed to run jupyter as observable with args notebook --no-browser --notebook-dir=\"/home/jon/code/notebooks/nlopt_process\" --config=/tmp/e681c2b4-ae14-4208-81a7-7a2760e1b342/jupyter_notebook_config.py --NotebookApp.iopub_data_rate_limit=10000000000.0. \n",
      "\u001b[1;31mView Jupyter <a href='command:jupyter.viewOutput'>log</a> for further details."
     ]
    }
   ],
   "source": [
    "plot_solver_comparison(\n",
    "    iter_vmcon_mfile_path,\n",
    "    iter_nlopt_mfile_path,\n",
    "    \"vmcon\",\n",
    "    \"nlopt\",\n",
    "    \"Percentage difference of ITER VMCON and nlopt\"\n",
    ")\n"
   ]
  },
  {
   "cell_type": "markdown",
   "metadata": {},
   "source": [
    "This solution appears quite different. Despite the FOM (`bt`) not changing at 5.3 T, `itvar010` (`enbeam`, neutral beam energy (keV)) has changed by ~320 %. Is this a legitimate solution?"
   ]
  }
 ],
 "metadata": {
  "kernelspec": {
   "display_name": "Python 3 (ipykernel)",
   "language": "python",
   "name": "python3"
  },
  "language_info": {
   "codemirror_mode": {
    "name": "ipython",
    "version": 3
   },
   "file_extension": ".py",
   "mimetype": "text/x-python",
   "name": "python",
   "nbconvert_exporter": "python",
   "pygments_lexer": "ipython3",
   "version": "3.8.10"
  },
  "vscode": {
   "interpreter": {
    "hash": "95e8614a6e18ad6e528160ac32f08bcfa19db99daf3816cbd89c3976c3924301"
   }
  }
 },
 "nbformat": 4,
 "nbformat_minor": 2
}
