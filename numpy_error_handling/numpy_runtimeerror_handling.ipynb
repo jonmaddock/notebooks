{
 "cells": [
  {
   "attachments": {},
   "cell_type": "markdown",
   "metadata": {},
   "source": [
    "# numpy RuntimeError handling\n",
    "\n",
    "When we encounter numerical errors, what happens?\n",
    "\n",
    "## Extreme values with regular Python floats"
   ]
  },
  {
   "cell_type": "code",
   "execution_count": 8,
   "metadata": {},
   "outputs": [
    {
     "name": "stdout",
     "output_type": "stream",
     "text": [
      "a=1e+200\n",
      "b=1e+200\n",
      "c=inf\n",
      "d=0.0\n"
     ]
    }
   ],
   "source": [
    "# Multiply some big numbers\n",
    "a = 1e200\n",
    "b = 1e200\n",
    "print(f\"{a=}\")\n",
    "print(f\"{b=}\")\n",
    "c = a * b\n",
    "print(f\"{c=}\")\n",
    "\n",
    "# Make something really small\n",
    "d = 1 / (a * b)\n",
    "print(f\"{d=}\")"
   ]
  },
  {
   "attachments": {},
   "cell_type": "markdown",
   "metadata": {},
   "source": [
    "When going over around 1e301, we get an overflow, but no error is thrown; the value of `c` is just set to `inf`. For < 1e-301, we get 0.0."
   ]
  },
  {
   "cell_type": "code",
   "execution_count": 9,
   "metadata": {},
   "outputs": [
    {
     "ename": "ZeroDivisionError",
     "evalue": "float division by zero",
     "output_type": "error",
     "traceback": [
      "\u001b[0;31m---------------------------------------------------------------------------\u001b[0m",
      "\u001b[0;31mZeroDivisionError\u001b[0m                         Traceback (most recent call last)",
      "Cell \u001b[0;32mIn[9], line 2\u001b[0m\n\u001b[1;32m      1\u001b[0m \u001b[39m# Try divide by zero\u001b[39;00m\n\u001b[0;32m----> 2\u001b[0m d \u001b[39m=\u001b[39m a \u001b[39m/\u001b[39;49m \u001b[39m0\u001b[39;49m\n",
      "\u001b[0;31mZeroDivisionError\u001b[0m: float division by zero"
     ]
    }
   ],
   "source": [
    "# Try divide by zero\n",
    "d = a / 0"
   ]
  },
  {
   "attachments": {},
   "cell_type": "markdown",
   "metadata": {},
   "source": [
    "Dividing by zero throws an exception."
   ]
  },
  {
   "cell_type": "code",
   "execution_count": 14,
   "metadata": {},
   "outputs": [
    {
     "name": "stdout",
     "output_type": "stream",
     "text": [
      "e=nan\n"
     ]
    }
   ],
   "source": [
    "# NaN experiment\n",
    "e = float(\"NaN\") + 1\n",
    "print(f\"{e=}\")"
   ]
  },
  {
   "attachments": {},
   "cell_type": "markdown",
   "metadata": {},
   "source": [
    "However, NaNs are fine. \n",
    "\n",
    "So, only divide by zero throws an exception in standard Python. Overflows, underflows and NaNs go along without complaint, which could make finding the source of errors difficult.\n",
    "\n",
    "## Extreme values with numpy\n",
    "\n",
    "What about numpy?"
   ]
  },
  {
   "cell_type": "code",
   "execution_count": 51,
   "metadata": {},
   "outputs": [
    {
     "name": "stdout",
     "output_type": "stream",
     "text": [
      "c=array([inf])\n",
      "d=array([0.])\n",
      "e=array([inf])\n",
      "f=nan\n"
     ]
    },
    {
     "name": "stderr",
     "output_type": "stream",
     "text": [
      "/tmp/ipykernel_116772/440360440.py:6: RuntimeWarning: overflow encountered in multiply\n",
      "  c = a * b\n",
      "/tmp/ipykernel_116772/440360440.py:11: RuntimeWarning: overflow encountered in multiply\n",
      "  d = 1 / (a * b) # throws overflow\n",
      "/tmp/ipykernel_116772/440360440.py:15: RuntimeWarning: divide by zero encountered in divide\n",
      "  e = a / 0\n"
     ]
    }
   ],
   "source": [
    "import numpy as np\n",
    "\n",
    "# Overflow\n",
    "a = np.array([1e200])\n",
    "b = np.array([1e200])\n",
    "c = a * b\n",
    "print(f\"{c=}\")\n",
    "\n",
    "# Attempt underflow\n",
    "d = 1 / c # doesn't throw\n",
    "d = 1 / (a * b) # throws overflow\n",
    "print(f\"{d=}\")\n",
    "\n",
    "# Div by zero\n",
    "e = a / 0\n",
    "print(f\"{e=}\")\n",
    "\n",
    "# Force NaN\n",
    "f = np.sqrt(np.NaN)\n",
    "print(f\"{f=}\")"
   ]
  },
  {
   "attachments": {},
   "cell_type": "markdown",
   "metadata": {},
   "source": [
    "Warns about overflows (can't seem to produce an underflow) and divide by zeros, but is fine with NaNs.\n",
    "\n",
    "However, these are just warnings; we need to change the calculations to avoid these situations. `inf`s and `0`s propagate to cause other errors that can throw Python exceptions or ultimately result in Fortran `STOP 1`s, and halt the optimisation run. Warnings can be caught, but this is cumbersome and not Pythonic. It's possible to get numpy to error in these cases:"
   ]
  },
  {
   "cell_type": "code",
   "execution_count": 53,
   "metadata": {},
   "outputs": [
    {
     "ename": "FloatingPointError",
     "evalue": "overflow encountered in multiply",
     "output_type": "error",
     "traceback": [
      "\u001b[0;31m---------------------------------------------------------------------------\u001b[0m",
      "\u001b[0;31mFloatingPointError\u001b[0m                        Traceback (most recent call last)",
      "Cell \u001b[0;32mIn[53], line 6\u001b[0m\n\u001b[1;32m      4\u001b[0m a \u001b[39m=\u001b[39m np\u001b[39m.\u001b[39marray([\u001b[39m1e200\u001b[39m])\n\u001b[1;32m      5\u001b[0m b \u001b[39m=\u001b[39m np\u001b[39m.\u001b[39marray([\u001b[39m1e200\u001b[39m])\n\u001b[0;32m----> 6\u001b[0m c \u001b[39m=\u001b[39m a \u001b[39m*\u001b[39;49m b\n",
      "\u001b[0;31mFloatingPointError\u001b[0m: overflow encountered in multiply"
     ]
    }
   ],
   "source": [
    "np.seterr(all=\"raise\")\n",
    "\n",
    "# Overflow\n",
    "a = np.array([1e200])\n",
    "b = np.array([1e200])\n",
    "c = a * b"
   ]
  },
  {
   "attachments": {},
   "cell_type": "markdown",
   "metadata": {},
   "source": [
    "This can then be caught:"
   ]
  },
  {
   "cell_type": "code",
   "execution_count": 55,
   "metadata": {},
   "outputs": [
    {
     "name": "stdout",
     "output_type": "stream",
     "text": [
      "c=1000000.0\n"
     ]
    }
   ],
   "source": [
    "np.seterr(all=\"raise\")\n",
    "\n",
    "# Overflow\n",
    "a = np.array([1e200])\n",
    "b = np.array([1e200])\n",
    "\n",
    "try:\n",
    "    c = a * b\n",
    "except FloatingPointError:\n",
    "    # Make very big instead: kludge\n",
    "    c = 1e6\n",
    "\n",
    "print(f\"{c=}\")"
   ]
  },
  {
   "attachments": {},
   "cell_type": "markdown",
   "metadata": {},
   "source": [
    "This approach has drawbacks, however. Firstly, this will only work if `np.seterr()` is set to raise, so that exceptions are raised for everything. This will catch these errors that cause problems later on, but it will also catch any error (even non-fatal ones) which will have to all be fixed before an optimisation run succeeds. This could create a huge number of errors that need fixing, even if the errors are innocuous. It also goes against the default numpy behaviour, which is to warn to stderr.\n",
    "\n",
    "The second problem is that it will only catch errors with numpy arrays: regular Python float errors/extreme values won't be caught.\n",
    "\n",
    "Perhaps a better approach is to use normal numpy error warning but assert only on values that are causing problems. Any `AssertionError` can then be handled. This gives the code a chance to keep going, whilst handling errors in key variables with asserts."
   ]
  },
  {
   "cell_type": "code",
   "execution_count": 62,
   "metadata": {},
   "outputs": [
    {
     "name": "stderr",
     "output_type": "stream",
     "text": [
      "/tmp/ipykernel_116772/3036535714.py:12: RuntimeWarning: overflow encountered in multiply\n",
      "  c = a * b\n",
      "Corrected c\n"
     ]
    },
    {
     "name": "stdout",
     "output_type": "stream",
     "text": [
      "c=1000000.0\n"
     ]
    }
   ],
   "source": [
    "import logging\n",
    "\n",
    "logger = logging.getLogger(__name__)\n",
    "\n",
    "np.seterr(all=\"warn\")\n",
    "\n",
    "# Overflow\n",
    "a = np.array([1e200])\n",
    "b = np.array([1e200])\n",
    "\n",
    "# Raise warning\n",
    "c = a * b\n",
    "\n",
    "try:\n",
    "    assert c <= 1e6\n",
    "except AssertionError:\n",
    "    # Make very big instead: kludge\n",
    "    c = 1e6\n",
    "    logger.warning(\"Corrected c\")\n",
    "\n",
    "print(f\"{c=}\")"
   ]
  }
 ],
 "metadata": {
  "kernelspec": {
   "display_name": "Python 3",
   "language": "python",
   "name": "python3"
  },
  "language_info": {
   "codemirror_mode": {
    "name": "ipython",
    "version": 3
   },
   "file_extension": ".py",
   "mimetype": "text/x-python",
   "name": "python",
   "nbconvert_exporter": "python",
   "pygments_lexer": "ipython3",
   "version": "3.11.4"
  },
  "orig_nbformat": 4,
  "vscode": {
   "interpreter": {
    "hash": "e7370f93d1d0cde622a1f8e1c04877d8463912d04d973331ad4851f04de6915a"
   }
  }
 },
 "nbformat": 4,
 "nbformat_minor": 2
}
