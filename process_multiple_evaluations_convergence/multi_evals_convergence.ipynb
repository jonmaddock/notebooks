{
 "cells": [
  {
   "cell_type": "markdown",
   "metadata": {},
   "source": [
    "# Multiple Model Evaluations in Process: Convergence Improvement?\n",
    "\n",
    "Run the models once-through or 6 times using the same optimisation parameter vector. Does this change the convergence?"
   ]
  },
  {
   "cell_type": "code",
   "execution_count": 46,
   "metadata": {},
   "outputs": [
    {
     "name": "stdout",
     "output_type": "stream",
     "text": [
      "The autoreload extension is already loaded. To reload it, use:\n",
      "  %reload_ext autoreload\n"
     ]
    }
   ],
   "source": [
    "%load_ext autoreload\n",
    "%autoreload 2\n",
    "\n",
    "from pathlib import Path\n",
    "import pandas as pd\n",
    "import numpy as np\n",
    "import seaborn as sns\n",
    "from matplotlib import pyplot as plt"
   ]
  },
  {
   "cell_type": "code",
   "execution_count": 47,
   "metadata": {},
   "outputs": [
    {
     "data": {
      "text/html": [
       "<div>\n",
       "<style scoped>\n",
       "    .dataframe tbody tr th:only-of-type {\n",
       "        vertical-align: middle;\n",
       "    }\n",
       "\n",
       "    .dataframe tbody tr th {\n",
       "        vertical-align: top;\n",
       "    }\n",
       "\n",
       "    .dataframe thead th {\n",
       "        text-align: right;\n",
       "    }\n",
       "</style>\n",
       "<table border=\"1\" class=\"dataframe\">\n",
       "  <thead>\n",
       "    <tr style=\"text-align: right;\">\n",
       "      <th></th>\n",
       "      <th>run</th>\n",
       "      <th>evals</th>\n",
       "      <th>converged_runs</th>\n",
       "      <th>converged_frac</th>\n",
       "    </tr>\n",
       "  </thead>\n",
       "  <tbody>\n",
       "    <tr>\n",
       "      <th>0</th>\n",
       "      <td>large-tokamak</td>\n",
       "      <td>1</td>\n",
       "      <td>12</td>\n",
       "      <td>0.012</td>\n",
       "    </tr>\n",
       "    <tr>\n",
       "      <th>1</th>\n",
       "      <td>large-tokamak</td>\n",
       "      <td>6</td>\n",
       "      <td>18</td>\n",
       "      <td>0.018</td>\n",
       "    </tr>\n",
       "    <tr>\n",
       "      <th>2</th>\n",
       "      <td>SPR45</td>\n",
       "      <td>1</td>\n",
       "      <td>0</td>\n",
       "      <td>0.000</td>\n",
       "    </tr>\n",
       "    <tr>\n",
       "      <th>3</th>\n",
       "      <td>SPR45</td>\n",
       "      <td>6</td>\n",
       "      <td>0</td>\n",
       "      <td>0.000</td>\n",
       "    </tr>\n",
       "    <tr>\n",
       "      <th>4</th>\n",
       "      <td>SPR45_3fpy</td>\n",
       "      <td>1</td>\n",
       "      <td>0</td>\n",
       "      <td>0.000</td>\n",
       "    </tr>\n",
       "    <tr>\n",
       "      <th>5</th>\n",
       "      <td>SPR45_3fpy</td>\n",
       "      <td>6</td>\n",
       "      <td>0</td>\n",
       "      <td>0.000</td>\n",
       "    </tr>\n",
       "    <tr>\n",
       "      <th>6</th>\n",
       "      <td>stellarator</td>\n",
       "      <td>1</td>\n",
       "      <td>0</td>\n",
       "      <td>0.000</td>\n",
       "    </tr>\n",
       "    <tr>\n",
       "      <th>7</th>\n",
       "      <td>stellarator</td>\n",
       "      <td>6</td>\n",
       "      <td>0</td>\n",
       "      <td>0.000</td>\n",
       "    </tr>\n",
       "    <tr>\n",
       "      <th>8</th>\n",
       "      <td>bluemira</td>\n",
       "      <td>1</td>\n",
       "      <td>6</td>\n",
       "      <td>0.006</td>\n",
       "    </tr>\n",
       "    <tr>\n",
       "      <th>9</th>\n",
       "      <td>bluemira</td>\n",
       "      <td>6</td>\n",
       "      <td>22</td>\n",
       "      <td>0.022</td>\n",
       "    </tr>\n",
       "    <tr>\n",
       "      <th>10</th>\n",
       "      <td>demo</td>\n",
       "      <td>1</td>\n",
       "      <td>12</td>\n",
       "      <td>0.012</td>\n",
       "    </tr>\n",
       "    <tr>\n",
       "      <th>11</th>\n",
       "      <td>demo</td>\n",
       "      <td>6</td>\n",
       "      <td>18</td>\n",
       "      <td>0.018</td>\n",
       "    </tr>\n",
       "    <tr>\n",
       "      <th>12</th>\n",
       "      <td>SPR45-10</td>\n",
       "      <td>1</td>\n",
       "      <td>0</td>\n",
       "      <td>0.000</td>\n",
       "    </tr>\n",
       "    <tr>\n",
       "      <th>13</th>\n",
       "      <td>SPR45-10</td>\n",
       "      <td>6</td>\n",
       "      <td>0</td>\n",
       "      <td>0.000</td>\n",
       "    </tr>\n",
       "  </tbody>\n",
       "</table>\n",
       "</div>"
      ],
      "text/plain": [
       "              run  evals  converged_runs  converged_frac\n",
       "0   large-tokamak      1              12           0.012\n",
       "1   large-tokamak      6              18           0.018\n",
       "2           SPR45      1               0           0.000\n",
       "3           SPR45      6               0           0.000\n",
       "4      SPR45_3fpy      1               0           0.000\n",
       "5      SPR45_3fpy      6               0           0.000\n",
       "6     stellarator      1               0           0.000\n",
       "7     stellarator      6               0           0.000\n",
       "8        bluemira      1               6           0.006\n",
       "9        bluemira      6              22           0.022\n",
       "10           demo      1              12           0.012\n",
       "11           demo      6              18           0.018\n",
       "12       SPR45-10      1               0           0.000\n",
       "13       SPR45-10      6               0           0.000"
      ]
     },
     "execution_count": 47,
     "metadata": {},
     "output_type": "execute_result"
    }
   ],
   "source": [
    "data = {\n",
    "    \"run\": [\n",
    "        \"large-tokamak\",\n",
    "        \"large-tokamak\",\n",
    "        \"SPR45\",\n",
    "        \"SPR45\",\n",
    "        \"SPR45_3fpy\",\n",
    "        \"SPR45_3fpy\",\n",
    "        \"stellarator\",\n",
    "        \"stellarator\",\n",
    "        \"bluemira\", \"bluemira\", \"demo\", \"demo\",\"SPR45-10\",\"SPR45-10\",\n",
    "    ],\n",
    "    \"evals\": [1, 6, 1, 6, 1, 6, 1, 6,1,6,1,6,1,6],\n",
    "    \"converged_runs\": [12, 18, 0, 0, 0, 0, 0, 0, 6, 22,12, 18,0,0],\n",
    "}\n",
    "\n",
    "RUN_COUNT = 1e3\n",
    "data[\"converged_frac\"] = np.array(data[\"converged_runs\"]) / RUN_COUNT\n",
    "\n",
    "df = pd.DataFrame(data)\n",
    "df"
   ]
  },
  {
   "cell_type": "code",
   "execution_count": 49,
   "metadata": {},
   "outputs": [
    {
     "data": {
      "text/plain": [
       "(array([0, 1, 2, 3, 4, 5, 6]),\n",
       " [Text(0, 0, 'SPR45'),\n",
       "  Text(1, 0, 'SPR45-10'),\n",
       "  Text(2, 0, 'SPR45_3fpy'),\n",
       "  Text(3, 0, 'bluemira'),\n",
       "  Text(4, 0, 'demo'),\n",
       "  Text(5, 0, 'large-tokamak'),\n",
       "  Text(6, 0, 'stellarator')])"
      ]
     },
     "execution_count": 49,
     "metadata": {},
     "output_type": "execute_result"
    },
    {
     "data": {
      "image/png": "[encoded data removed]",
      "text/plain": [
       "<Figure size 640x480 with 1 Axes>"
      ]
     },
     "metadata": {},
     "output_type": "display_data"
    }
   ],
   "source": [
    "fig, ax = plt.subplots()\n",
    "sns.barplot(x=\"run\", y=\"converged_frac\", data=df.sort_values(\"run\"), ci=None, hue=\"evals\", ax=ax)\n",
    "ax.set_xlabel(\"Run\")\n",
    "ax.set_ylabel(\"Converged fraction\")\n",
    "ax.set_title(\"Convergence fraction of 1e3 Monte Carlo initial points, 10% variance,\\nnew VMCON\")\n",
    "ax.legend(title=\"Model evaluations\")\n",
    "plt.xticks(rotation=90)"
   ]
  }
 ],
 "metadata": {
  "kernelspec": {
   "display_name": "process",
   "language": "python",
   "name": "python3"
  },
  "language_info": {
   "codemirror_mode": {
    "name": "ipython",
    "version": 3
   },
   "file_extension": ".py",
   "mimetype": "text/x-python",
   "name": "python",
   "nbconvert_exporter": "python",
   "pygments_lexer": "ipython3",
   "version": "3.9.13"
  }
 },
 "nbformat": 4,
 "nbformat_minor": 2
}
