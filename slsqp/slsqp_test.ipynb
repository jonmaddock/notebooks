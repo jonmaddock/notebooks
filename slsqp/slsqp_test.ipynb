{
 "cells": [
  {
   "cell_type": "markdown",
   "metadata": {},
   "source": [
    "# Testing SLSQP\n",
    "nlopt's SLSQP appears to violate constraints at a \"converged\" solution. Check this.\n",
    "\n",
    "## nlopt's SLSQP\n",
    "### Problem 1"
   ]
  },
  {
   "cell_type": "code",
   "execution_count": 1,
   "metadata": {},
   "outputs": [
    {
     "name": "stdout",
     "output_type": "stream",
     "text": [
      "objf =  158.5 at x[0] =  2.5  x[1] =  5.0\n",
      "objf =  146803505608115.06 at x[0] =  -1100.990000000001  x[1] =  554.0200000000002\n",
      "objf =  13389984184.061459 at x[0] =  -107.8490000000001  x[1] =  59.90200000000002\n",
      "objf =  388897.0117672333 at x[0] =  -8.534900000000011  x[1] =  10.490200000000002\n",
      "objf =  1295.2788393920505 at x[0] =  1.3965099999999988  x[1] =  5.5490200000000005\n",
      "objf =  14.422721540390352 at x[0] =  2.189481326672275  x[1] =  5.154492530091245\n",
      "objf =  14.422721540390352 at x[0] =  2.189481326672275  x[1] =  5.154492530091245\n",
      "objf =  17.743208903111793 at x[0] =  1.759845600424561  x[1] =  2.6827397072793495\n",
      "objf =  18.12930562844732 at x[0] =  1.4594550668037019  x[1] =  1.706710064497841\n",
      "objf =  22.524318901599212 at x[0] =  1.107866374815913  x[1] =  1.701843233066463\n",
      "objf =  0.5491729153694156 at x[0] =  1.2788871605734926  x[1] =  1.7042105712502886\n",
      "objf =  0.5491729153694156 at x[0] =  1.2788871605734926  x[1] =  1.7042105712502886\n",
      "objf =  0.06463636845785697 at x[0] =  1.2524573232214695  x[1] =  1.5656465670957493\n",
      "objf =  0.06255671195089194 at x[0] =  1.2499208526432233  x[1] =  1.5613209173824814\n",
      "objf =  0.06226224100407627 at x[0] =  1.249481549024183  x[1] =  1.561664550958314\n",
      "objf =  0.0622534823683728 at x[0] =  1.2493919568480023  x[1] =  1.5617361337032474\n",
      "objf =  0.06225348172981736 at x[0] =  1.2493919133217883  x[1] =  1.561736164313974\n",
      "optimum at  1.2493919133217883 1.561736164313974\n",
      "minimum value =  0.06225348172981736\n",
      "result code =  3\n",
      "constraint at minimum =  3.552713678800501e-05\n"
     ]
    }
   ],
   "source": [
    "import nlopt\n",
    "import numpy as np\n",
    "\n",
    "SOLVER_TOL = 1e-6\n",
    "\n",
    "\n",
    "def rosenbrock(x, grad):\n",
    "    if grad.size > 0:\n",
    "        grad[0] = -400 * x[0] * (x[1] - x[0] ** 2) - 2 * (1 - x[0])\n",
    "        grad[1] = 200 * (x[1] - x[0] ** 2)\n",
    "    objf = 100 * (x[1] - x[0] ** 2) ** 2 + (1 - x[0]) ** 2\n",
    "    print(\"objf = \", objf, \"at x[0] = \", x[0], \" x[1] = \", x[1])\n",
    "    return objf\n",
    "\n",
    "\n",
    "def constraint(x, grad):\n",
    "    if grad.size > 0:\n",
    "        grad[0] = (2 * x[0]) * 1e10\n",
    "        grad[1] = (2 * x[1]) * 1e10\n",
    "    return (x[0] ** 2 + x[1] ** 2 - 4) * 1e10\n",
    "\n",
    "\n",
    "opt = nlopt.opt(nlopt.LD_SLSQP, 2)\n",
    "opt.set_min_objective(rosenbrock)\n",
    "opt.add_equality_constraint(constraint, 1e-8)\n",
    "opt.set_ftol_rel(SOLVER_TOL)\n",
    "x_0 = np.array([2.5, 5])\n",
    "x_opt = opt.optimize(x_0)\n",
    "\n",
    "minf = opt.last_optimum_value()\n",
    "print(\"optimum at \", x_opt[0], x_opt[1])\n",
    "print(\"minimum value = \", minf)\n",
    "print(\"result code = \", opt.last_optimize_result())\n",
    "\n",
    "m = 1\n",
    "cons = np.zeros(m)\n",
    "print(\"constraint at minimum = \", constraint(x_opt, np.zeros(2)))"
   ]
  },
  {
   "cell_type": "markdown",
   "metadata": {},
   "source": [
    "Equality constraint is clearly above the specified tolerance: the solution should not have converged there. What about a really simple problem?\n",
    "\n",
    "### Problem 2"
   ]
  },
  {
   "cell_type": "code",
   "execution_count": 2,
   "metadata": {},
   "outputs": [
    {
     "name": "stdout",
     "output_type": "stream",
     "text": [
      "obj =  2.0 at x[0] =  1.0\n",
      "obj =  5.999999999999996 at x[0] =  1.9999999999999991\n",
      "obj =  3.7499999999999982 at x[0] =  1.4999999999999996\n",
      "obj =  3.7499999999999982 at x[0] =  1.4999999999999996\n",
      "obj =  5.9999999999999805 at x[0] =  1.999999999999996\n",
      "obj =  5.999999999999984 at x[0] =  1.999999999999997\n",
      "obj =  5.999999999999982 at x[0] =  1.9999999999999964\n",
      "obj =  5.999999999999981 at x[0] =  1.9999999999999962\n",
      "obj =  5.999999999999981 at x[0] =  1.9999999999999962\n",
      "obj =  5.9999999999999805 at x[0] =  1.999999999999996\n",
      "obj =  5.9999999999999805 at x[0] =  1.999999999999996\n",
      "obj =  5.9999999999999805 at x[0] =  1.999999999999996\n",
      "obj =  5.9999999999999805 at x[0] =  1.999999999999996\n",
      "obj =  5.9999999999999805 at x[0] =  1.999999999999996\n",
      "obj =  5.9999999999999805 at x[0] =  1.999999999999996\n",
      "obj =  5.9999999999999805 at x[0] =  1.999999999999996\n",
      "obj =  5.9999999999999805 at x[0] =  1.999999999999996\n",
      "optimum at  1.999999999999996\n",
      "minimum value =  5.9999999999999805\n",
      "result code =  3\n",
      "constraint at minimum =  3.9968028886505635e-15\n"
     ]
    }
   ],
   "source": [
    "def objf(x, grad):\n",
    "    # x^2 + x\n",
    "    if grad.size > 0:\n",
    "        grad[0] = 2 * x[0] + 1\n",
    "    obj = x[0] ** 2 + x[0]\n",
    "    print(\"obj = \", obj, \"at x[0] = \", x[0])\n",
    "    return obj\n",
    "\n",
    "\n",
    "def constraint(x, grad):\n",
    "    # -(x - 1)\n",
    "    # < 0 is satisfied\n",
    "    if grad.size > 0:\n",
    "        grad[0] = -1\n",
    "    return -(x[0] - 2)\n",
    "\n",
    "\n",
    "n = 1\n",
    "m = 1\n",
    "opt = nlopt.opt(nlopt.LD_SLSQP, 1)\n",
    "opt.set_min_objective(objf)\n",
    "# opt.add_inequality_constraint(constraint, 1e-5)\n",
    "opt.add_inequality_constraint(constraint, 0.0)\n",
    "opt.set_ftol_rel(SOLVER_TOL)\n",
    "x_0 = np.array([2.0])\n",
    "x_opt = opt.optimize(np.array([1.0]))\n",
    "\n",
    "minf = opt.last_optimum_value()\n",
    "print(\"optimum at \", x_opt[0])\n",
    "print(\"minimum value = \", minf)\n",
    "print(\"result code = \", opt.last_optimize_result())\n",
    "\n",
    "cons = np.zeros(m)\n",
    "print(\"constraint at minimum = \", constraint(x_opt, cons))"
   ]
  },
  {
   "cell_type": "markdown",
   "metadata": {},
   "source": [
    "With zero-tolerance inequality constraint, constraint is > 0 (violated), very slightly. This isn't right either: equality and inequality constraints violated at the solution.\n",
    "\n",
    "Try something slightly more complex (2 opt params):\n",
    "\n",
    "### Problem 3"
   ]
  },
  {
   "cell_type": "code",
   "execution_count": 3,
   "metadata": {},
   "outputs": [
    {
     "name": "stdout",
     "output_type": "stream",
     "text": [
      "obj =  6.0 at x =  [2. 2.]\n",
      "obj =  6.7500000000000515 at x =  [1.5 4.5]\n",
      "obj =  5.756614710213614 at x =  [0.41866913 5.58133087]\n",
      "obj =  5.750000000000009 at x =  [0.5 5.5]\n",
      "obj =  5.749999999999994 at x =  [0.5 5.5]\n",
      "optimum at  0.5000000000000002 5.500000000000009\n",
      "minimum value =  5.750000000000009\n",
      "result code =  3\n",
      "constraint at minimum =  -8.881784197001252e-15\n"
     ]
    }
   ],
   "source": [
    "def objf(x, grad):\n",
    "    # x1^2 + x2\n",
    "    if grad.size > 0:\n",
    "        grad[0] = 2 * x[0]\n",
    "        grad[1] = 1\n",
    "    obj = x[0] ** 2 + x[1]\n",
    "    print(\"obj = \", obj, \"at x = \", x)\n",
    "    return obj\n",
    "\n",
    "\n",
    "def constraint(x, grad):\n",
    "    # -(x - 1)\n",
    "    # < 0 is satisfied\n",
    "    if grad.size > 0:\n",
    "        grad[0] = -1\n",
    "        grad[1] = -1\n",
    "    return -(x[0] + x[1] - 6)\n",
    "\n",
    "\n",
    "n = 2\n",
    "m = 1\n",
    "opt = nlopt.opt(nlopt.LD_SLSQP, n)\n",
    "opt.set_min_objective(objf)\n",
    "# opt.add_inequality_constraint(lambda x, grad: constraint(x, grad), 1e-5)\n",
    "opt.add_inequality_constraint(lambda x, grad: constraint(x, grad), 0.0)\n",
    "opt.set_ftol_rel(SOLVER_TOL)\n",
    "x_0 = np.array([2.0, 2.0])\n",
    "x_opt = opt.optimize(x_0)\n",
    "\n",
    "minf = opt.last_optimum_value()\n",
    "print(\"optimum at \", x_opt[0], x_opt[1])\n",
    "print(\"minimum value = \", minf)\n",
    "print(\"result code = \", opt.last_optimize_result())\n",
    "\n",
    "con_grads = np.zeros(n)\n",
    "print(\"constraint at minimum = \", constraint(x_opt, con_grads))"
   ]
  },
  {
   "cell_type": "markdown",
   "metadata": {},
   "source": [
    "Constraint < 0 (satisfied) now. So in 1/3 cases it's satisfied. Constraint tolerance affects solution vector: constraint is always within tolerance in this case.\n",
    "\n",
    "## Compare with scipy's SLSQP\n",
    "### Problem 1"
   ]
  },
  {
   "cell_type": "code",
   "execution_count": 4,
   "metadata": {},
   "outputs": [
    {
     "name": "stdout",
     "output_type": "stream",
     "text": [
      "Optimization terminated successfully    (Exit mode 0)\n",
      "            Current function value: 0.06225348172983235\n",
      "            Iterations: 12\n",
      "            Function evaluations: 45\n",
      "            Gradient evaluations: 12\n",
      "opt_val = 0.06225348172983235\n",
      "x_opt = array([1.24939191, 1.56173617])\n",
      "Constraint =  -8.881784197001252e-06\n"
     ]
    }
   ],
   "source": [
    "from scipy import optimize\n",
    "\n",
    "SOLVER_TOL = 1e-6\n",
    "CONSTRAINT_TOL = 1e-5\n",
    "\n",
    "\n",
    "def rosenbrock(x):\n",
    "    objf = 100 * (x[1] - x[0] ** 2) ** 2 + (1 - x[0]) ** 2\n",
    "    # print(\"objf = \", objf, \"at x[0] = \", x[0], \" x[1] = \", x[1])\n",
    "    return objf\n",
    "\n",
    "\n",
    "def constraint(x):\n",
    "    return (x[0] ** 2 + x[1] ** 2 - 4) * 1e10\n",
    "\n",
    "\n",
    "x_0 = np.array([2.5, 5.0])\n",
    "n = x_0.shape[0]\n",
    "constraints = []\n",
    "# c < 0 (when feasible (standard))\n",
    "ineq_constraints = optimize.NonlinearConstraint(\n",
    "    constraint, -CONSTRAINT_TOL, CONSTRAINT_TOL\n",
    ")\n",
    "constraints.append(ineq_constraints)\n",
    "\n",
    "result = optimize.minimize(\n",
    "    rosenbrock,\n",
    "    x_0,\n",
    "    method=\"SLSQP\",\n",
    "    jac=None,\n",
    "    # bounds=bounds,\n",
    "    constraints=constraints,\n",
    "    tol=SOLVER_TOL,\n",
    "    options={\"disp\": True},\n",
    ")\n",
    "\n",
    "# Recalculate constraints at optimium x\n",
    "x_opt = result.x\n",
    "opt_val = result.fun\n",
    "print(f\"{opt_val = }\")\n",
    "print(f\"{x_opt = }\")\n",
    "print(\"Constraint = \", constraint(x_opt))"
   ]
  },
  {
   "cell_type": "markdown",
   "metadata": {},
   "source": [
    "Roughly same point as nlopt's problem 1, but constraint is feasible. Reacts to tolerance, but always within it."
   ]
  },
  {
   "cell_type": "markdown",
   "metadata": {},
   "source": [
    "\n",
    "### Problem 2"
   ]
  },
  {
   "cell_type": "code",
   "execution_count": 5,
   "metadata": {},
   "outputs": [
    {
     "name": "stdout",
     "output_type": "stream",
     "text": [
      "obj =  6.0 at x[0] =  2.0\n",
      "obj =  6.000000074505806 at x[0] =  2.000000014901161\n",
      "Optimization terminated successfully    (Exit mode 0)\n",
      "            Current function value: 6.0\n",
      "            Iterations: 1\n",
      "            Function evaluations: 2\n",
      "            Gradient evaluations: 1\n",
      "opt_val = 6.0\n",
      "x_opt = array([2.])\n",
      "Constraint =  -0.0\n"
     ]
    }
   ],
   "source": [
    "EQ_CONSTRAINT_TOL = 1e-8\n",
    "\n",
    "\n",
    "def obj_func(x):\n",
    "    # x^2 + x\n",
    "    obj = x[0] ** 2 + x[0]\n",
    "    print(\"obj = \", obj, \"at x[0] = \", x[0])\n",
    "    return obj\n",
    "\n",
    "\n",
    "def constraint_ineq_vec(x):\n",
    "    # -(x - 1)\n",
    "    # < 0 is satisfied\n",
    "    return -(x[0] - 2)\n",
    "\n",
    "\n",
    "x_0 = np.array([2.0])\n",
    "n = x_0.shape[0]\n",
    "\n",
    "constraints = []\n",
    "# c < 0 (when feasible (standard))\n",
    "ineq_constraints = optimize.NonlinearConstraint(constraint_ineq_vec, -np.inf, 0.0)\n",
    "constraints.append(ineq_constraints)\n",
    "\n",
    "result = optimize.minimize(\n",
    "    obj_func,\n",
    "    x_0,\n",
    "    method=\"SLSQP\",\n",
    "    jac=None,\n",
    "    # bounds=bounds,\n",
    "    constraints=constraints,\n",
    "    tol=SOLVER_TOL,\n",
    "    options={\"disp\": True},\n",
    ")\n",
    "\n",
    "# Recalculate constraints at optimium x\n",
    "x_opt = result.x\n",
    "opt_val = result.fun\n",
    "print(f\"{opt_val = }\")\n",
    "print(f\"{x_opt = }\")\n",
    "print(\"Constraint = \", constraint_ineq_vec(x_opt))"
   ]
  },
  {
   "cell_type": "markdown",
   "metadata": {},
   "source": [
    "In constrast to nlopt's SLSQP, this solution is feasible.\n",
    "\n",
    "### Problem 3"
   ]
  },
  {
   "cell_type": "code",
   "execution_count": 6,
   "metadata": {},
   "outputs": [
    {
     "name": "stdout",
     "output_type": "stream",
     "text": [
      "Optimization terminated successfully    (Exit mode 0)\n",
      "            Current function value: 5.750000000000023\n",
      "            Iterations: 4\n",
      "            Function evaluations: 12\n",
      "            Gradient evaluations: 4\n",
      "opt_val = 5.750000000000023\n",
      "x_opt = array([0.49999997, 5.50000003])\n",
      "Constraint =  -2.220446049250313e-14\n"
     ]
    }
   ],
   "source": [
    "def objf(x):\n",
    "    # x1^2 + x2\n",
    "    obj = x[0] ** 2 + x[1]\n",
    "    # print(\"obj = \", obj, \"at x = \", x)\n",
    "    return obj\n",
    "\n",
    "\n",
    "def constraint(x):\n",
    "    # -(x - 1)\n",
    "    # < 0 is satisfied\n",
    "    return -(x[0] + x[1] - 6)\n",
    "\n",
    "\n",
    "x_0 = np.array([2.0, 2.0])\n",
    "n = x_0.shape[0]\n",
    "\n",
    "constraints = []\n",
    "# c < 0 (when feasible (standard))\n",
    "ineq_constraints = optimize.NonlinearConstraint(constraint, -np.inf, 0.0)\n",
    "constraints.append(ineq_constraints)\n",
    "\n",
    "result = optimize.minimize(\n",
    "    objf,\n",
    "    x_0,\n",
    "    method=\"SLSQP\",\n",
    "    jac=None,\n",
    "    # bounds=bounds,\n",
    "    constraints=constraints,\n",
    "    tol=SOLVER_TOL,\n",
    "    options={\"disp\": True},\n",
    ")\n",
    "\n",
    "# Recalculate constraints at optimium x\n",
    "x_opt = result.x\n",
    "opt_val = result.fun\n",
    "print(f\"{opt_val = }\")\n",
    "print(f\"{x_opt = }\")\n",
    "print(\"Constraint = \", constraint(x_opt))"
   ]
  },
  {
   "cell_type": "markdown",
   "metadata": {},
   "source": [
    "Problem 3 gives same as nlopt: constraint is satisfied.\n",
    "\n",
    "## Conclusion\n",
    "For the 3 toy problems, nlopt and scipy's SLSQP implementations give very similar results. However, nlopt allows constraints to be violated in 2/3 cases, whereas scipy always satisfies constraints. Therefore only scipy's SLSQP can be guaranteed to produce feasible solutions."
   ]
  }
 ],
 "metadata": {
  "kernelspec": {
   "display_name": "process-uq",
   "language": "python",
   "name": "python3"
  },
  "language_info": {
   "codemirror_mode": {
    "name": "ipython",
    "version": 3
   },
   "file_extension": ".py",
   "mimetype": "text/x-python",
   "name": "python",
   "nbconvert_exporter": "python",
   "pygments_lexer": "ipython3",
   "version": "3.10.9"
  }
 },
 "nbformat": 4,
 "nbformat_minor": 2
}
