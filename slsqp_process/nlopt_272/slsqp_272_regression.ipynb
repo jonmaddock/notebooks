{
 "cells": [
  {
   "attachments": {},
   "cell_type": "markdown",
   "metadata": {},
   "source": [
    "# nlopt's SLSQP (2.7.2) on regression tests\n",
    "\n",
    "Using the constraint-obeying SLSQP in nlopt 2.7.2, run Process's regression tests."
   ]
  },
  {
   "cell_type": "code",
   "execution_count": 1,
   "metadata": {},
   "outputs": [],
   "source": [
    "# Reload Process each time (keep editable install up-to-date)\n",
    "%load_ext autoreload\n",
    "%autoreload 2\n",
    "\n",
    "from process.io import plot_solutions as ps"
   ]
  },
  {
   "attachments": {},
   "cell_type": "markdown",
   "metadata": {},
   "source": [
    "## Single regression run\n",
    "\n",
    "Run a single regression run using nlopt's SLSQP (2.7.2). Check the values of the constraints.\n",
    "\n",
    "```\n",
    "FTOL_REL = 1e-6\n",
    "CONSTR_TOL = 1e-8\n",
    "```"
   ]
  },
  {
   "cell_type": "code",
   "execution_count": 4,
   "metadata": {},
   "outputs": [
    {
     "name": "stdout",
     "output_type": "stream",
     "text": [
      "Scenario = baseline_jan_2017\n",
      "Solver = nlopt\n",
      "Objective function = 1.8922\n",
      "Constraint residuals = 4.338e-09\n",
      "Constraints above tolerance: 0\n",
      "Constraint residuals =\n",
      "normres001   -3.208500e-13\n",
      "normres002    7.764900e-13\n",
      "normres003   -2.331500e-15\n",
      "normres004    2.811500e-12\n",
      "normres005    3.108600e-15\n",
      "normres006    2.047700e-09\n",
      "normres007   -7.557300e-12\n",
      "normres008    9.518300e-10\n",
      "normres009   -3.558300e-13\n",
      "normres010   -3.050100e-09\n",
      "normres011   -2.903200e-09\n",
      "normres012    5.773200e-15\n",
      "normres013   -3.441700e-15\n",
      "normres014   -1.676400e-14\n",
      "normres015    2.242700e-14\n",
      "normres016    1.965100e-13\n",
      "normres017    4.218800e-15\n",
      "normres018    6.921600e-12\n",
      "Name: 0, dtype: float64\n"
     ]
    }
   ],
   "source": [
    "results_df = ps.run_and_print(\"baseline_jan_2017\", \"nlopt\", rerun=False)"
   ]
  },
  {
   "attachments": {},
   "cell_type": "markdown",
   "metadata": {},
   "source": [
    "0 constraints violate the tolerance (most under 1e-9), hence the solution is feasible. The constraint residuals are very low (1e-9)."
   ]
  },
  {
   "cell_type": "markdown",
   "metadata": {},
   "source": [
    "## Subset of regression tests\n",
    "\n",
    "Run a few regression tests and see how they compare."
   ]
  },
  {
   "cell_type": "code",
   "execution_count": 6,
   "metadata": {},
   "outputs": [
    {
     "name": "stdout",
     "output_type": "stream",
     "text": [
      "Warning: nlopt running L_mode failed to converge. Not plotting\n",
      "Warning: nlopt running Hybrid_mode failed to converge. Not plotting\n",
      "Warning: nlopt running QH_mode failed to converge. Not plotting\n"
     ]
    },
    {
     "data": {
      "image/png": "[encoded data removed]",
      "text/plain": [
       "<Figure size 640x480 with 1 Axes>"
      ]
     },
     "metadata": {},
     "output_type": "display_data"
    }
   ],
   "source": [
    "results_df = ps.compare_solvers_regression_tests([\"legacy_vmcon\", \"nlopt\"], scenarios=[\"baseline_jan_2017\", \"ITER\", \"L_mode\", \"Hybrid_mode\", \"QH_mode\"], rerun_tests=False)"
   ]
  },
  {
   "cell_type": "code",
   "execution_count": 7,
   "metadata": {},
   "outputs": [
    {
     "data": {
      "text/html": [
       "<div>\n",
       "<style scoped>\n",
       "    .dataframe tbody tr th:only-of-type {\n",
       "        vertical-align: middle;\n",
       "    }\n",
       "\n",
       "    .dataframe tbody tr th {\n",
       "        vertical-align: top;\n",
       "    }\n",
       "\n",
       "    .dataframe thead th {\n",
       "        text-align: right;\n",
       "    }\n",
       "</style>\n",
       "<table border=\"1\" class=\"dataframe\">\n",
       "  <thead>\n",
       "    <tr style=\"text-align: right;\">\n",
       "      <th></th>\n",
       "      <th>tag</th>\n",
       "      <th>sqsumsq</th>\n",
       "    </tr>\n",
       "  </thead>\n",
       "  <tbody>\n",
       "    <tr>\n",
       "      <th>0</th>\n",
       "      <td>baseline_jan_2017_legacy_vmcon</td>\n",
       "      <td>2.085200e-10</td>\n",
       "    </tr>\n",
       "    <tr>\n",
       "      <th>1</th>\n",
       "      <td>ITER_legacy_vmcon</td>\n",
       "      <td>3.668900e-11</td>\n",
       "    </tr>\n",
       "    <tr>\n",
       "      <th>2</th>\n",
       "      <td>L_mode_legacy_vmcon</td>\n",
       "      <td>2.249300e-09</td>\n",
       "    </tr>\n",
       "    <tr>\n",
       "      <th>3</th>\n",
       "      <td>Hybrid_mode_legacy_vmcon</td>\n",
       "      <td>6.136600e-09</td>\n",
       "    </tr>\n",
       "    <tr>\n",
       "      <th>4</th>\n",
       "      <td>QH_mode_legacy_vmcon</td>\n",
       "      <td>9.473400e-09</td>\n",
       "    </tr>\n",
       "    <tr>\n",
       "      <th>5</th>\n",
       "      <td>baseline_jan_2017_nlopt</td>\n",
       "      <td>4.337600e-09</td>\n",
       "    </tr>\n",
       "    <tr>\n",
       "      <th>6</th>\n",
       "      <td>ITER_nlopt</td>\n",
       "      <td>2.608300e-10</td>\n",
       "    </tr>\n",
       "    <tr>\n",
       "      <th>7</th>\n",
       "      <td>L_mode_nlopt</td>\n",
       "      <td>NaN</td>\n",
       "    </tr>\n",
       "    <tr>\n",
       "      <th>8</th>\n",
       "      <td>Hybrid_mode_nlopt</td>\n",
       "      <td>NaN</td>\n",
       "    </tr>\n",
       "    <tr>\n",
       "      <th>9</th>\n",
       "      <td>QH_mode_nlopt</td>\n",
       "      <td>NaN</td>\n",
       "    </tr>\n",
       "  </tbody>\n",
       "</table>\n",
       "</div>"
      ],
      "text/plain": [
       "                              tag       sqsumsq\n",
       "0  baseline_jan_2017_legacy_vmcon  2.085200e-10\n",
       "1               ITER_legacy_vmcon  3.668900e-11\n",
       "2             L_mode_legacy_vmcon  2.249300e-09\n",
       "3        Hybrid_mode_legacy_vmcon  6.136600e-09\n",
       "4            QH_mode_legacy_vmcon  9.473400e-09\n",
       "5         baseline_jan_2017_nlopt  4.337600e-09\n",
       "6                      ITER_nlopt  2.608300e-10\n",
       "7                    L_mode_nlopt           NaN\n",
       "8               Hybrid_mode_nlopt           NaN\n",
       "9                   QH_mode_nlopt           NaN"
      ]
     },
     "execution_count": 7,
     "metadata": {},
     "output_type": "execute_result"
    }
   ],
   "source": [
    "results_df[[\"tag\", \"sqsumsq\"]]"
   ]
  },
  {
   "attachments": {},
   "cell_type": "markdown",
   "metadata": {},
   "source": [
    "Compared to the \"unfixed\" SLSQP in nlopt (2.7.1), both baseline 2017 and ITER now find well-converged solutions, with low constraints.\n",
    "\n",
    "However, the other 3 regression tests all fail due to hitting the evaluation limit of 200. \n",
    "\n",
    "Whilst the baseline result is unchanged, the iter result becomes more similar to the VMCON result compared to the nlopt 2.7.1 case, now that it is obeying its constraints.\n",
    "\n",
    "## Conclusion\n",
    "\n",
    "The fixed SLSQP works, in that it produces feasible solutions, but it's not particulary efficient: some of the tests hit high evaluation limits."
   ]
  }
 ],
 "metadata": {
  "kernelspec": {
   "display_name": "process",
   "language": "python",
   "name": "python3"
  },
  "language_info": {
   "codemirror_mode": {
    "name": "ipython",
    "version": 3
   },
   "file_extension": ".py",
   "mimetype": "text/x-python",
   "name": "python",
   "nbconvert_exporter": "python",
   "pygments_lexer": "ipython3",
   "version": "3.10.9"
  },
  "orig_nbformat": 4
 },
 "nbformat": 4,
 "nbformat_minor": 2
}
