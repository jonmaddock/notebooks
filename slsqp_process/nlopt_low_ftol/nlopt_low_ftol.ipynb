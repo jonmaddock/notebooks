{
 "cells": [
  {
   "attachments": {},
   "cell_type": "markdown",
   "metadata": {},
   "source": [
    "# nlopt's SLSQP on regression tests with low FTOL\n",
    "\n",
    "Using SLSQP, run Process's regression tests."
   ]
  },
  {
   "cell_type": "code",
   "execution_count": 1,
   "metadata": {},
   "outputs": [],
   "source": [
    "# Reload Process each time (keep editable install up-to-date)\n",
    "%load_ext autoreload\n",
    "%autoreload 2\n",
    "\n",
    "from process.io import plot_solutions as ps"
   ]
  },
  {
   "attachments": {},
   "cell_type": "markdown",
   "metadata": {},
   "source": [
    "## Single regression run\n",
    "\n",
    "Run a single regression run using scipy's SLSQP. Check the values of the constraints."
   ]
  },
  {
   "cell_type": "code",
   "execution_count": 7,
   "metadata": {},
   "outputs": [
    {
     "name": "stdout",
     "output_type": "stream",
     "text": [
      "Scenario = baseline_jan_2017\n",
      "Solver = nlopt\n",
      "Objective function = 1.8922\n",
      "Constraint residuals = 5.857e-07\n",
      "Constraints above tolerance: 4\n",
      "Constraint residuals =\n",
      "normres001    6.226300e-11\n",
      "normres002   -1.543800e-10\n",
      "normres003   -2.248200e-13\n",
      "normres004   -5.659500e-10\n",
      "normres005   -3.608200e-14\n",
      "normres006    5.407800e-07\n",
      "normres007    1.494500e-09\n",
      "normres008    5.225400e-08\n",
      "normres009    7.055000e-11\n",
      "normres010    1.224400e-07\n",
      "normres011    1.165400e-07\n",
      "normres012    5.819800e-13\n",
      "normres013   -6.567000e-13\n",
      "normres014   -6.100700e-13\n",
      "normres015   -1.521100e-12\n",
      "normres016   -6.066300e-13\n",
      "normres017   -3.327300e-13\n",
      "normres018   -1.367200e-09\n",
      "Name: 0, dtype: float64\n"
     ]
    }
   ],
   "source": [
    "results_df = ps.run_and_print(\"baseline_jan_2017\", \"nlopt\", rerun=False)"
   ]
  },
  {
   "attachments": {},
   "cell_type": "markdown",
   "metadata": {},
   "source": [
    "Setting `FTOL_REL = 1e-7` causes the constraint residuals to drop from 1e-4 to 1e-7. Why? Smaller steps, linearised constraints become a better approximation?\n",
    "\n",
    "Setting `FTOL_REL = 1e-8` causes constraint residuals to go to 1e-8."
   ]
  }
 ],
 "metadata": {
  "kernelspec": {
   "display_name": "process",
   "language": "python",
   "name": "python3"
  },
  "language_info": {
   "codemirror_mode": {
    "name": "ipython",
    "version": 3
   },
   "file_extension": ".py",
   "mimetype": "text/x-python",
   "name": "python",
   "nbconvert_exporter": "python",
   "pygments_lexer": "ipython3",
   "version": "3.10.9"
  },
  "orig_nbformat": 4
 },
 "nbformat": 4,
 "nbformat_minor": 2
}
