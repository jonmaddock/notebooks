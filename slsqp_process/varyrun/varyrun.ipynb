{
 "cells": [
  {
   "attachments": {},
   "cell_type": "markdown",
   "metadata": {},
   "source": [
    "# VaryRun with SLSQP\n",
    "\n",
    "Some regression scenarios don't converge with scipy's SLSQP. Try using VaryRun to find a solution.\n",
    "\n",
    "Use L_mode, which doesn't converge with SLSQP. Got VaryRun to work with old VMCON, now try with SLSQP."
   ]
  },
  {
   "cell_type": "code",
   "execution_count": 6,
   "metadata": {},
   "outputs": [
    {
     "name": "stdout",
     "output_type": "stream",
     "text": [
      "\n",
      "Working directory:   /home/jon/code/notebooks/slsqp_process/varyrun\n",
      "Original IN.DAT:     /home/jon/code/notebooks/slsqp_process/varyrun/ref_IN.DAT\n",
      "PROCESS binary:      process.exe\n",
      "Number of iterations 1000\n",
      "variable range factor 1.9\n",
      "Config file          /home/jon/code/notebooks/slsqp_process/varyrun/run_process.conf\n",
      "Comment   ipedestal = 1, with other variables appropriate for running PLASMOD\n",
      "\n",
      "no. allowed UNFEASIBLE points 0\n",
      "\n"
     ]
    },
    {
     "name": "stderr",
     "output_type": "stream",
     "text": [
      "cp: '/home/jon/code/notebooks/slsqp_process/varyrun/run_process.conf' and '/home/jon/code/notebooks/slsqp_process/varyrun/run_process.conf' are the same file\n",
      "Warning: boundu for vdalw lies out of allowed input range!\n",
      " Reset boundu(52) to 100.0\n"
     ]
    },
    {
     "name": "stdout",
     "output_type": "stream",
     "text": [
      "0 PROCESS run started ..."
     ]
    },
    {
     "name": "stderr",
     "output_type": "stream",
     "text": [
      "Error: There was a problem with the PROCESS execution! Command '['process', '-i', '/home/jon/code/notebooks/slsqp_process/varyrun/IN.DAT', '--solver', 'scipy']' returned non-zero exit status 1.\n",
      "Refer to the logfile for more information!\n"
     ]
    },
    {
     "name": "stdout",
     "output_type": "stream",
     "text": [
      "finished.\n",
      "PROCESS has stopped without finishing!\n",
      "1 PROCESS run started ..."
     ]
    },
    {
     "name": "stderr",
     "output_type": "stream",
     "text": [
      "Error: There was a problem with the PROCESS execution! Command '['process', '-i', '/home/jon/code/notebooks/slsqp_process/varyrun/IN.DAT', '--solver', 'scipy']' returned non-zero exit status 1.\n",
      "Refer to the logfile for more information!\n"
     ]
    },
    {
     "name": "stdout",
     "output_type": "stream",
     "text": [
      "finished.\n",
      "PROCESS has stopped without finishing!\n",
      "2 PROCESS run started ..."
     ]
    },
    {
     "name": "stderr",
     "output_type": "stream",
     "text": [
      "Error: There was a problem with the PROCESS execution! Command '['process', '-i', '/home/jon/code/notebooks/slsqp_process/varyrun/IN.DAT', '--solver', 'scipy']' returned non-zero exit status 1.\n",
      "Refer to the logfile for more information!\n"
     ]
    },
    {
     "name": "stdout",
     "output_type": "stream",
     "text": [
      "finished.\n",
      "PROCESS has stopped without finishing!\n",
      "3 PROCESS run started ..."
     ]
    },
    {
     "name": "stderr",
     "output_type": "stream",
     "text": [
      "Error: There was a problem with the PROCESS execution! Command '['process', '-i', '/home/jon/code/notebooks/slsqp_process/varyrun/IN.DAT', '--solver', 'scipy']' returned non-zero exit status 1.\n",
      "Refer to the logfile for more information!\n"
     ]
    },
    {
     "name": "stdout",
     "output_type": "stream",
     "text": [
      "finished.\n",
      "PROCESS has stopped without finishing!\n",
      "4 PROCESS run started ...finished.\n",
      "WARNING: 1 non-feasible point(s) in sweep! Rerunning!\n",
      "5 PROCESS run started ...finished.\n",
      "WARNING: 1 non-feasible point(s) in sweep! Rerunning!\n",
      "6 PROCESS run started ..."
     ]
    },
    {
     "name": "stderr",
     "output_type": "stream",
     "text": [
      "Error: There was a problem with the PROCESS execution! Command '['process', '-i', '/home/jon/code/notebooks/slsqp_process/varyrun/IN.DAT', '--solver', 'scipy']' returned non-zero exit status 1.\n",
      "Refer to the logfile for more information!\n"
     ]
    },
    {
     "name": "stdout",
     "output_type": "stream",
     "text": [
      "finished.\n",
      "PROCESS has stopped without finishing!\n",
      "7 PROCESS run started ..."
     ]
    },
    {
     "name": "stderr",
     "output_type": "stream",
     "text": [
      "Error: There was a problem with the PROCESS execution! Command '['process', '-i', '/home/jon/code/notebooks/slsqp_process/varyrun/IN.DAT', '--solver', 'scipy']' returned non-zero exit status 1.\n",
      "Refer to the logfile for more information!\n"
     ]
    },
    {
     "name": "stdout",
     "output_type": "stream",
     "text": [
      "finished.\n",
      "PROCESS has stopped without finishing!\n",
      "8 PROCESS run started ...finished.\n",
      "WARNING: 1 non-feasible point(s) in sweep! Rerunning!\n",
      "9 PROCESS run started ..."
     ]
    },
    {
     "name": "stderr",
     "output_type": "stream",
     "text": [
      "Error: There was a problem with the PROCESS execution! Command '['process', '-i', '/home/jon/code/notebooks/slsqp_process/varyrun/IN.DAT', '--solver', 'scipy']' returned non-zero exit status 1.\n",
      "Refer to the logfile for more information!\n"
     ]
    },
    {
     "name": "stdout",
     "output_type": "stream",
     "text": [
      "finished.\n",
      "PROCESS has stopped without finishing!\n",
      "10 PROCESS run started ..."
     ]
    },
    {
     "name": "stderr",
     "output_type": "stream",
     "text": [
      "Error: There was a problem with the PROCESS execution! Command '['process', '-i', '/home/jon/code/notebooks/slsqp_process/varyrun/IN.DAT', '--solver', 'scipy']' returned non-zero exit status 1.\n",
      "Refer to the logfile for more information!\n"
     ]
    },
    {
     "name": "stdout",
     "output_type": "stream",
     "text": [
      "finished.\n",
      "PROCESS has stopped without finishing!\n",
      "11 PROCESS run started ..."
     ]
    },
    {
     "name": "stderr",
     "output_type": "stream",
     "text": [
      "Error: There was a problem with the PROCESS execution! Command '['process', '-i', '/home/jon/code/notebooks/slsqp_process/varyrun/IN.DAT', '--solver', 'scipy']' returned non-zero exit status 1.\n",
      "Refer to the logfile for more information!\n"
     ]
    },
    {
     "name": "stdout",
     "output_type": "stream",
     "text": [
      "finished.\n",
      "PROCESS has stopped without finishing!\n",
      "12 PROCESS run started ..."
     ]
    },
    {
     "name": "stderr",
     "output_type": "stream",
     "text": [
      "Error: There was a problem with the PROCESS execution! Command '['process', '-i', '/home/jon/code/notebooks/slsqp_process/varyrun/IN.DAT', '--solver', 'scipy']' returned non-zero exit status 1.\n",
      "Refer to the logfile for more information!\n"
     ]
    },
    {
     "name": "stdout",
     "output_type": "stream",
     "text": [
      "finished.\n",
      "PROCESS has stopped without finishing!\n",
      "13 PROCESS run started ..."
     ]
    },
    {
     "name": "stderr",
     "output_type": "stream",
     "text": [
      "Error: There was a problem with the PROCESS execution! Command '['process', '-i', '/home/jon/code/notebooks/slsqp_process/varyrun/IN.DAT', '--solver', 'scipy']' returned non-zero exit status 1.\n",
      "Refer to the logfile for more information!\n"
     ]
    },
    {
     "name": "stdout",
     "output_type": "stream",
     "text": [
      "finished.\n",
      "PROCESS has stopped without finishing!\n",
      "14 PROCESS run started ..."
     ]
    },
    {
     "name": "stderr",
     "output_type": "stream",
     "text": [
      "Error: There was a problem with the PROCESS execution! Command '['process', '-i', '/home/jon/code/notebooks/slsqp_process/varyrun/IN.DAT', '--solver', 'scipy']' returned non-zero exit status 1.\n",
      "Refer to the logfile for more information!\n"
     ]
    },
    {
     "name": "stdout",
     "output_type": "stream",
     "text": [
      "finished.\n",
      "PROCESS has stopped without finishing!\n",
      "15 PROCESS run started ...finished.\n",
      "WARNING: 1 non-feasible point(s) in sweep! Rerunning!\n",
      "16 PROCESS run started ..."
     ]
    },
    {
     "name": "stderr",
     "output_type": "stream",
     "text": [
      "Error: There was a problem with the PROCESS execution! Command '['process', '-i', '/home/jon/code/notebooks/slsqp_process/varyrun/IN.DAT', '--solver', 'scipy']' returned non-zero exit status 1.\n",
      "Refer to the logfile for more information!\n"
     ]
    },
    {
     "name": "stdout",
     "output_type": "stream",
     "text": [
      "finished.\n",
      "PROCESS has stopped without finishing!\n",
      "17 PROCESS run started ..."
     ]
    },
    {
     "name": "stderr",
     "output_type": "stream",
     "text": [
      "Error: There was a problem with the PROCESS execution! Command '['process', '-i', '/home/jon/code/notebooks/slsqp_process/varyrun/IN.DAT', '--solver', 'scipy']' returned non-zero exit status 1.\n",
      "Refer to the logfile for more information!\n"
     ]
    },
    {
     "name": "stdout",
     "output_type": "stream",
     "text": [
      "finished.\n",
      "PROCESS has stopped without finishing!\n",
      "18 PROCESS run started ..."
     ]
    },
    {
     "name": "stderr",
     "output_type": "stream",
     "text": [
      "Error: There was a problem with the PROCESS execution! Command '['process', '-i', '/home/jon/code/notebooks/slsqp_process/varyrun/IN.DAT', '--solver', 'scipy']' returned non-zero exit status 1.\n",
      "Refer to the logfile for more information!\n"
     ]
    },
    {
     "name": "stdout",
     "output_type": "stream",
     "text": [
      "finished.\n",
      "PROCESS has stopped without finishing!\n",
      "19 PROCESS run started ..."
     ]
    },
    {
     "name": "stderr",
     "output_type": "stream",
     "text": [
      "Error: There was a problem with the PROCESS execution! Command '['process', '-i', '/home/jon/code/notebooks/slsqp_process/varyrun/IN.DAT', '--solver', 'scipy']' returned non-zero exit status 1.\n",
      "Refer to the logfile for more information!\n"
     ]
    },
    {
     "name": "stdout",
     "output_type": "stream",
     "text": [
      "finished.\n",
      "PROCESS has stopped without finishing!\n",
      "20 PROCESS run started ..."
     ]
    },
    {
     "name": "stderr",
     "output_type": "stream",
     "text": [
      "Error: There was a problem with the PROCESS execution! Command '['process', '-i', '/home/jon/code/notebooks/slsqp_process/varyrun/IN.DAT', '--solver', 'scipy']' returned non-zero exit status 1.\n",
      "Refer to the logfile for more information!\n"
     ]
    },
    {
     "name": "stdout",
     "output_type": "stream",
     "text": [
      "finished.\n",
      "PROCESS has stopped without finishing!\n",
      "21 PROCESS run started ..."
     ]
    },
    {
     "name": "stderr",
     "output_type": "stream",
     "text": [
      "Error: There was a problem with the PROCESS execution! Command '['process', '-i', '/home/jon/code/notebooks/slsqp_process/varyrun/IN.DAT', '--solver', 'scipy']' returned non-zero exit status 1.\n",
      "Refer to the logfile for more information!\n"
     ]
    },
    {
     "name": "stdout",
     "output_type": "stream",
     "text": [
      "finished.\n",
      "PROCESS has stopped without finishing!\n",
      "22 PROCESS run started ..."
     ]
    },
    {
     "name": "stderr",
     "output_type": "stream",
     "text": [
      "Error: There was a problem with the PROCESS execution! Command '['process', '-i', '/home/jon/code/notebooks/slsqp_process/varyrun/IN.DAT', '--solver', 'scipy']' returned non-zero exit status 1.\n",
      "Refer to the logfile for more information!\n"
     ]
    },
    {
     "name": "stdout",
     "output_type": "stream",
     "text": [
      "finished.\n",
      "PROCESS has stopped without finishing!\n",
      "23 PROCESS run started ..."
     ]
    },
    {
     "name": "stderr",
     "output_type": "stream",
     "text": [
      "Error: There was a problem with the PROCESS execution! Command '['process', '-i', '/home/jon/code/notebooks/slsqp_process/varyrun/IN.DAT', '--solver', 'scipy']' returned non-zero exit status 1.\n",
      "Refer to the logfile for more information!\n"
     ]
    },
    {
     "name": "stdout",
     "output_type": "stream",
     "text": [
      "finished.\n",
      "PROCESS has stopped without finishing!\n",
      "24 PROCESS run started ..."
     ]
    },
    {
     "name": "stderr",
     "output_type": "stream",
     "text": [
      "Error: There was a problem with the PROCESS execution! Command '['process', '-i', '/home/jon/code/notebooks/slsqp_process/varyrun/IN.DAT', '--solver', 'scipy']' returned non-zero exit status 1.\n",
      "Refer to the logfile for more information!\n"
     ]
    },
    {
     "name": "stdout",
     "output_type": "stream",
     "text": [
      "finished.\n",
      "PROCESS has stopped without finishing!\n",
      "25 PROCESS run started ...finished.\n",
      "WARNING: 1 non-feasible point(s) in sweep! Rerunning!\n",
      "26 PROCESS run started ..."
     ]
    },
    {
     "name": "stderr",
     "output_type": "stream",
     "text": [
      "Error: There was a problem with the PROCESS execution! Command '['process', '-i', '/home/jon/code/notebooks/slsqp_process/varyrun/IN.DAT', '--solver', 'scipy']' returned non-zero exit status 1.\n",
      "Refer to the logfile for more information!\n"
     ]
    },
    {
     "name": "stdout",
     "output_type": "stream",
     "text": [
      "finished.\n",
      "PROCESS has stopped without finishing!\n",
      "27 PROCESS run started ..."
     ]
    },
    {
     "name": "stderr",
     "output_type": "stream",
     "text": [
      "Error: There was a problem with the PROCESS execution! Command '['process', '-i', '/home/jon/code/notebooks/slsqp_process/varyrun/IN.DAT', '--solver', 'scipy']' returned non-zero exit status 1.\n",
      "Refer to the logfile for more information!\n"
     ]
    },
    {
     "name": "stdout",
     "output_type": "stream",
     "text": [
      "finished.\n",
      "PROCESS has stopped without finishing!\n",
      "28 PROCESS run started ..."
     ]
    },
    {
     "name": "stderr",
     "output_type": "stream",
     "text": [
      "Error: There was a problem with the PROCESS execution! Command '['process', '-i', '/home/jon/code/notebooks/slsqp_process/varyrun/IN.DAT', '--solver', 'scipy']' returned non-zero exit status 1.\n",
      "Refer to the logfile for more information!\n"
     ]
    },
    {
     "name": "stdout",
     "output_type": "stream",
     "text": [
      "finished.\n",
      "PROCESS has stopped without finishing!\n",
      "29 PROCESS run started ..."
     ]
    },
    {
     "ename": "KeyboardInterrupt",
     "evalue": "",
     "output_type": "error",
     "traceback": [
      "\u001b[0;31m---------------------------------------------------------------------------\u001b[0m",
      "\u001b[0;31mKeyboardInterrupt\u001b[0m                         Traceback (most recent call last)",
      "Cell \u001b[0;32mIn[6], line 14\u001b[0m\n\u001b[1;32m     10\u001b[0m CONF_PATH \u001b[39m=\u001b[39m Path(\u001b[39m\"\u001b[39m\u001b[39mrun_process.conf\u001b[39m\u001b[39m\"\u001b[39m)\n\u001b[1;32m     12\u001b[0m copy(PROCESS_DIR \u001b[39m/\u001b[39m INPUT_REL, Path\u001b[39m.\u001b[39mcwd() \u001b[39m/\u001b[39m \u001b[39m\"\u001b[39m\u001b[39mref_IN.DAT\u001b[39m\u001b[39m\"\u001b[39m)\n\u001b[0;32m---> 14\u001b[0m vary_run \u001b[39m=\u001b[39m VaryRun(\u001b[39mstr\u001b[39;49m(CONF_PATH), solver\u001b[39m=\u001b[39;49m\u001b[39m\"\u001b[39;49m\u001b[39mscipy\u001b[39;49m\u001b[39m\"\u001b[39;49m)\n",
      "File \u001b[0;32m~/code/process/process/main.py:271\u001b[0m, in \u001b[0;36mVaryRun.__init__\u001b[0;34m(self, config_file, solver)\u001b[0m\n\u001b[1;32m    268\u001b[0m \u001b[39m# Store the absolute path to the config file immediately: various\u001b[39;00m\n\u001b[1;32m    269\u001b[0m \u001b[39m# dir changes happen in old run_process code\u001b[39;00m\n\u001b[1;32m    270\u001b[0m \u001b[39mself\u001b[39m\u001b[39m.\u001b[39mconfig_file \u001b[39m=\u001b[39m Path(config_file)\u001b[39m.\u001b[39mresolve()\n\u001b[0;32m--> 271\u001b[0m \u001b[39mself\u001b[39;49m\u001b[39m.\u001b[39;49mrun(solver)\n",
      "File \u001b[0;32m~/code/process/process/main.py:315\u001b[0m, in \u001b[0;36mVaryRun.run\u001b[0;34m(self, solver)\u001b[0m\n\u001b[1;32m    305\u001b[0m \u001b[39mprint\u001b[39m(i, end\u001b[39m=\u001b[39m\u001b[39m\"\u001b[39m\u001b[39m \u001b[39m\u001b[39m\"\u001b[39m)\n\u001b[1;32m    307\u001b[0m \u001b[39m# Run single runs (SingleRun()) of process as subprocesses. This\u001b[39;00m\n\u001b[1;32m    308\u001b[0m \u001b[39m# is the only way to deal with Fortran \"stop\" statements when\u001b[39;00m\n\u001b[1;32m    309\u001b[0m \u001b[39m# running VaryRun(), which otherwise cause the Python\u001b[39;00m\n\u001b[0;32m   (...)\u001b[0m\n\u001b[1;32m    313\u001b[0m \u001b[39m# handle error codes\u001b[39;00m\n\u001b[1;32m    314\u001b[0m \u001b[39m# Run process on an IN.DAT file\u001b[39;00m\n\u001b[0;32m--> 315\u001b[0m config\u001b[39m.\u001b[39;49mrun_process(input_path, solver)\n\u001b[1;32m    317\u001b[0m check_input_error(wdir\u001b[39m=\u001b[39mwdir)\n\u001b[1;32m    319\u001b[0m \u001b[39mif\u001b[39;00m \u001b[39mnot\u001b[39;00m process_stopped():\n",
      "File \u001b[0;32m~/code/process/process/io/process_config.py:317\u001b[0m, in \u001b[0;36mProcessConfig.run_process\u001b[0;34m(self, input_path, solver)\u001b[0m\n\u001b[1;32m    313\u001b[0m \u001b[39mprint\u001b[39m(\u001b[39m\"\u001b[39m\u001b[39mPROCESS run started ...\u001b[39m\u001b[39m\"\u001b[39m, end\u001b[39m=\u001b[39m\u001b[39m\"\u001b[39m\u001b[39m\"\u001b[39m)\n\u001b[1;32m    315\u001b[0m \u001b[39mtry\u001b[39;00m:\n\u001b[1;32m    316\u001b[0m     \u001b[39m# Run process on an IN.DAT file\u001b[39;00m\n\u001b[0;32m--> 317\u001b[0m     subprocess\u001b[39m.\u001b[39;49mcheck_call(\n\u001b[1;32m    318\u001b[0m         [\u001b[39m\"\u001b[39;49m\u001b[39mprocess\u001b[39;49m\u001b[39m\"\u001b[39;49m, \u001b[39m\"\u001b[39;49m\u001b[39m-i\u001b[39;49m\u001b[39m\"\u001b[39;49m, \u001b[39mstr\u001b[39;49m(input_path), \u001b[39m\"\u001b[39;49m\u001b[39m--solver\u001b[39;49m\u001b[39m\"\u001b[39;49m, solver],\n\u001b[1;32m    319\u001b[0m         stdout\u001b[39m=\u001b[39;49mlogfile,\n\u001b[1;32m    320\u001b[0m         stderr\u001b[39m=\u001b[39;49mlogfile,\n\u001b[1;32m    321\u001b[0m     )\n\u001b[1;32m    322\u001b[0m \u001b[39mexcept\u001b[39;00m subprocess\u001b[39m.\u001b[39mCalledProcessError \u001b[39mas\u001b[39;00m err:\n\u001b[1;32m    323\u001b[0m     \u001b[39m# Process has exited with a non-zero exit code. This is likely to\u001b[39;00m\n\u001b[1;32m    324\u001b[0m     \u001b[39m# be due to hitting a \"stop 1\" in the Fortran. Catch this exception\u001b[39;00m\n\u001b[1;32m    325\u001b[0m     \u001b[39m# to allow execution to continue without exiting\u001b[39;00m\n\u001b[1;32m    326\u001b[0m     \u001b[39mprint\u001b[39m(\n\u001b[1;32m    327\u001b[0m         \u001b[39m\"\u001b[39m\u001b[39mError: There was a problem with the PROCESS execution!\u001b[39m\u001b[39m\"\u001b[39m,\n\u001b[1;32m    328\u001b[0m         err,\n\u001b[1;32m    329\u001b[0m         file\u001b[39m=\u001b[39msys\u001b[39m.\u001b[39mstderr,\n\u001b[1;32m    330\u001b[0m     )\n",
      "File \u001b[0;32m~/anaconda3/envs/process/lib/python3.10/subprocess.py:364\u001b[0m, in \u001b[0;36mcheck_call\u001b[0;34m(*popenargs, **kwargs)\u001b[0m\n\u001b[1;32m    354\u001b[0m \u001b[39mdef\u001b[39;00m \u001b[39mcheck_call\u001b[39m(\u001b[39m*\u001b[39mpopenargs, \u001b[39m*\u001b[39m\u001b[39m*\u001b[39mkwargs):\n\u001b[1;32m    355\u001b[0m \u001b[39m    \u001b[39m\u001b[39m\"\"\"Run command with arguments.  Wait for command to complete.  If\u001b[39;00m\n\u001b[1;32m    356\u001b[0m \u001b[39m    the exit code was zero then return, otherwise raise\u001b[39;00m\n\u001b[1;32m    357\u001b[0m \u001b[39m    CalledProcessError.  The CalledProcessError object will have the\u001b[39;00m\n\u001b[0;32m   (...)\u001b[0m\n\u001b[1;32m    362\u001b[0m \u001b[39m    check_call([\"ls\", \"-l\"])\u001b[39;00m\n\u001b[1;32m    363\u001b[0m \u001b[39m    \"\"\"\u001b[39;00m\n\u001b[0;32m--> 364\u001b[0m     retcode \u001b[39m=\u001b[39m call(\u001b[39m*\u001b[39;49mpopenargs, \u001b[39m*\u001b[39;49m\u001b[39m*\u001b[39;49mkwargs)\n\u001b[1;32m    365\u001b[0m     \u001b[39mif\u001b[39;00m retcode:\n\u001b[1;32m    366\u001b[0m         cmd \u001b[39m=\u001b[39m kwargs\u001b[39m.\u001b[39mget(\u001b[39m\"\u001b[39m\u001b[39margs\u001b[39m\u001b[39m\"\u001b[39m)\n",
      "File \u001b[0;32m~/anaconda3/envs/process/lib/python3.10/subprocess.py:347\u001b[0m, in \u001b[0;36mcall\u001b[0;34m(timeout, *popenargs, **kwargs)\u001b[0m\n\u001b[1;32m    345\u001b[0m \u001b[39mwith\u001b[39;00m Popen(\u001b[39m*\u001b[39mpopenargs, \u001b[39m*\u001b[39m\u001b[39m*\u001b[39mkwargs) \u001b[39mas\u001b[39;00m p:\n\u001b[1;32m    346\u001b[0m     \u001b[39mtry\u001b[39;00m:\n\u001b[0;32m--> 347\u001b[0m         \u001b[39mreturn\u001b[39;00m p\u001b[39m.\u001b[39;49mwait(timeout\u001b[39m=\u001b[39;49mtimeout)\n\u001b[1;32m    348\u001b[0m     \u001b[39mexcept\u001b[39;00m:  \u001b[39m# Including KeyboardInterrupt, wait handled that.\u001b[39;00m\n\u001b[1;32m    349\u001b[0m         p\u001b[39m.\u001b[39mkill()\n",
      "File \u001b[0;32m~/anaconda3/envs/process/lib/python3.10/subprocess.py:1209\u001b[0m, in \u001b[0;36mPopen.wait\u001b[0;34m(self, timeout)\u001b[0m\n\u001b[1;32m   1207\u001b[0m     endtime \u001b[39m=\u001b[39m _time() \u001b[39m+\u001b[39m timeout\n\u001b[1;32m   1208\u001b[0m \u001b[39mtry\u001b[39;00m:\n\u001b[0;32m-> 1209\u001b[0m     \u001b[39mreturn\u001b[39;00m \u001b[39mself\u001b[39;49m\u001b[39m.\u001b[39;49m_wait(timeout\u001b[39m=\u001b[39;49mtimeout)\n\u001b[1;32m   1210\u001b[0m \u001b[39mexcept\u001b[39;00m \u001b[39mKeyboardInterrupt\u001b[39;00m:\n\u001b[1;32m   1211\u001b[0m     \u001b[39m# https://bugs.python.org/issue25942\u001b[39;00m\n\u001b[1;32m   1212\u001b[0m     \u001b[39m# The first keyboard interrupt waits briefly for the child to\u001b[39;00m\n\u001b[1;32m   1213\u001b[0m     \u001b[39m# exit under the common assumption that it also received the ^C\u001b[39;00m\n\u001b[1;32m   1214\u001b[0m     \u001b[39m# generated SIGINT and will exit rapidly.\u001b[39;00m\n\u001b[1;32m   1215\u001b[0m     \u001b[39mif\u001b[39;00m timeout \u001b[39mis\u001b[39;00m \u001b[39mnot\u001b[39;00m \u001b[39mNone\u001b[39;00m:\n",
      "File \u001b[0;32m~/anaconda3/envs/process/lib/python3.10/subprocess.py:1943\u001b[0m, in \u001b[0;36mPopen._wait\u001b[0;34m(self, timeout)\u001b[0m\n\u001b[1;32m   1941\u001b[0m \u001b[39mif\u001b[39;00m \u001b[39mself\u001b[39m\u001b[39m.\u001b[39mreturncode \u001b[39mis\u001b[39;00m \u001b[39mnot\u001b[39;00m \u001b[39mNone\u001b[39;00m:\n\u001b[1;32m   1942\u001b[0m     \u001b[39mbreak\u001b[39;00m  \u001b[39m# Another thread waited.\u001b[39;00m\n\u001b[0;32m-> 1943\u001b[0m (pid, sts) \u001b[39m=\u001b[39m \u001b[39mself\u001b[39;49m\u001b[39m.\u001b[39;49m_try_wait(\u001b[39m0\u001b[39;49m)\n\u001b[1;32m   1944\u001b[0m \u001b[39m# Check the pid and loop as waitpid has been known to\u001b[39;00m\n\u001b[1;32m   1945\u001b[0m \u001b[39m# return 0 even without WNOHANG in odd situations.\u001b[39;00m\n\u001b[1;32m   1946\u001b[0m \u001b[39m# http://bugs.python.org/issue14396.\u001b[39;00m\n\u001b[1;32m   1947\u001b[0m \u001b[39mif\u001b[39;00m pid \u001b[39m==\u001b[39m \u001b[39mself\u001b[39m\u001b[39m.\u001b[39mpid:\n",
      "File \u001b[0;32m~/anaconda3/envs/process/lib/python3.10/subprocess.py:1901\u001b[0m, in \u001b[0;36mPopen._try_wait\u001b[0;34m(self, wait_flags)\u001b[0m\n\u001b[1;32m   1899\u001b[0m \u001b[39m\u001b[39m\u001b[39m\"\"\"All callers to this function MUST hold self._waitpid_lock.\"\"\"\u001b[39;00m\n\u001b[1;32m   1900\u001b[0m \u001b[39mtry\u001b[39;00m:\n\u001b[0;32m-> 1901\u001b[0m     (pid, sts) \u001b[39m=\u001b[39m os\u001b[39m.\u001b[39;49mwaitpid(\u001b[39mself\u001b[39;49m\u001b[39m.\u001b[39;49mpid, wait_flags)\n\u001b[1;32m   1902\u001b[0m \u001b[39mexcept\u001b[39;00m \u001b[39mChildProcessError\u001b[39;00m:\n\u001b[1;32m   1903\u001b[0m     \u001b[39m# This happens if SIGCLD is set to be ignored or waiting\u001b[39;00m\n\u001b[1;32m   1904\u001b[0m     \u001b[39m# for child processes has otherwise been disabled for our\u001b[39;00m\n\u001b[1;32m   1905\u001b[0m     \u001b[39m# process.  This child is dead, we can't get the status.\u001b[39;00m\n\u001b[1;32m   1906\u001b[0m     pid \u001b[39m=\u001b[39m \u001b[39mself\u001b[39m\u001b[39m.\u001b[39mpid\n",
      "\u001b[0;31mKeyboardInterrupt\u001b[0m: "
     ]
    }
   ],
   "source": [
    "\"\"\"Using SLSQP, perform a VaryRun for a given scenario.\"\"\"\n",
    "\n",
    "from process.main import VaryRun\n",
    "from pathlib import Path\n",
    "import process\n",
    "from shutil import copy\n",
    "\n",
    "SCENARIO = \"L_mode\"\n",
    "PROCESS_DIR = Path(process.__file__).parent.parent\n",
    "INPUT_PATH = PROCESS_DIR / \"tests/regression/scenarios/\" / SCENARIO / \"IN.DAT\"\n",
    "CONF_PATH = Path(\"run_process.conf\")\n",
    "\n",
    "copy(INPUT_PATH, Path(\"ref_IN.DAT\"))\n",
    "\n",
    "vary_run = VaryRun(str(CONF_PATH), solver=\"scipy\")\n",
    "\n"
   ]
  },
  {
   "attachments": {},
   "cell_type": "markdown",
   "metadata": {},
   "source": [
    "This started working: some points didn't hit model exceptions, but were unfeasible: perhaps running for longer would find a feasible starting point."
   ]
  }
 ],
 "metadata": {
  "kernelspec": {
   "display_name": "process",
   "language": "python",
   "name": "python3"
  },
  "language_info": {
   "codemirror_mode": {
    "name": "ipython",
    "version": 3
   },
   "file_extension": ".py",
   "mimetype": "text/x-python",
   "name": "python",
   "nbconvert_exporter": "python",
   "pygments_lexer": "ipython3",
   "version": "3.10.9"
  },
  "orig_nbformat": 4
 },
 "nbformat": 4,
 "nbformat_minor": 2
}
