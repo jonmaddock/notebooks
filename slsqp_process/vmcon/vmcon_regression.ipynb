{
 "cells": [
  {
   "attachments": {},
   "cell_type": "markdown",
   "metadata": {},
   "source": [
    "# VMCON on regression tests\n",
    "\n",
    "Using VMCON, run Process's regression tests."
   ]
  },
  {
   "cell_type": "code",
   "execution_count": 1,
   "metadata": {},
   "outputs": [],
   "source": [
    "# Reload Process each time (keep editable install up-to-date)\n",
    "%load_ext autoreload\n",
    "%autoreload 2\n",
    "\n",
    "from process.io import plot_solutions as ps"
   ]
  },
  {
   "attachments": {},
   "cell_type": "markdown",
   "metadata": {},
   "source": [
    "## Single regression run\n",
    "\n",
    "Run a single regression run using VMCON. Check the values of the constraints."
   ]
  },
  {
   "cell_type": "code",
   "execution_count": 3,
   "metadata": {},
   "outputs": [
    {
     "name": "stdout",
     "output_type": "stream",
     "text": [
      "Scenario = baseline_jan_2017\n",
      "Solver = legacy_vmcon\n",
      "Objective function = 1.8922\n",
      "Constraint residuals = 2.085e-10\n",
      "Constraints above tolerance: 0\n",
      "Constraint residuals =\n",
      "normres001    1.154600e-14\n",
      "normres002   -3.419500e-14\n",
      "normres003   -5.551100e-16\n",
      "normres004   -1.281200e-13\n",
      "normres005    4.440900e-16\n",
      "normres006    2.210200e-11\n",
      "normres007    3.272900e-13\n",
      "normres008   -2.179400e-11\n",
      "normres009    1.576500e-14\n",
      "normres010    1.493200e-10\n",
      "normres011    1.421300e-10\n",
      "normres012    3.774800e-15\n",
      "normres013   -3.774800e-15\n",
      "normres014    9.103800e-15\n",
      "normres015   -3.441700e-15\n",
      "normres016    1.287900e-14\n",
      "normres017    1.110200e-15\n",
      "normres018   -3.005400e-13\n",
      "Name: 0, dtype: float64\n"
     ]
    }
   ],
   "source": [
    "results_df = ps.run_and_print(\"baseline_jan_2017\", \"legacy_vmcon\", rerun=True)"
   ]
  },
  {
   "attachments": {},
   "cell_type": "markdown",
   "metadata": {},
   "source": [
    "0 constraints violate the tolerance (most around 1e-10), hence the solution is feasible. The constraint residuals are very low (1e-10)."
   ]
  }
 ],
 "metadata": {
  "kernelspec": {
   "display_name": "process",
   "language": "python",
   "name": "python3"
  },
  "language_info": {
   "codemirror_mode": {
    "name": "ipython",
    "version": 3
   },
   "file_extension": ".py",
   "mimetype": "text/x-python",
   "name": "python",
   "nbconvert_exporter": "python",
   "pygments_lexer": "ipython3",
   "version": "3.10.9"
  },
  "orig_nbformat": 4
 },
 "nbformat": 4,
 "nbformat_minor": 2
}
