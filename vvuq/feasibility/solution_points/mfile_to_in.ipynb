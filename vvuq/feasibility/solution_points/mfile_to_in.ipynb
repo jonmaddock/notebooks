{
 "cells": [
  {
   "attachments": {},
   "cell_type": "markdown",
   "metadata": {},
   "source": [
    "# Convert an output mfile to an input file\n",
    "\n",
    "First, extract the solution (optimisation parameters) from the mfile."
   ]
  },
  {
   "cell_type": "code",
   "execution_count": 1,
   "metadata": {},
   "outputs": [
    {
     "name": "stdout",
     "output_type": "stream",
     "text": [
      "Global solution = {'beta': 0.044039, 'dene': 6.8094e+19, 'fwalld': 0.56327, 'ffuspow': 1.02, 'ftburn': 1.0, 'flhthresh': 1.575, 'fpinj': 0.2, 'fpnetel': 0.71469, 'fbetatry': 0.63976, 'fpeakb': 0.7254, 'coheof': 9102000.0, 'fjohc': 0.058528, 'fjohc0': 0.072846, 'fcohbop': 1.0, 'fiooic': 0.091059, 'fvdump': 1.0, 'vdalw': 10.0, 'fjprot': 1.0, 'ftmargtf': 0.24667, 'ftmargoh': 0.29975, 'ftaulimit': 1.0, 'ftaucq': 0.77584, 'foh_stress': 1.0, 'fbmaxcs': 0.77812, 'fne0': 0.48113, 'fpsepbqar': 1.0, 'fstrcase': 1.0, 'fstrcond': 0.85914, 'bt': 4.7036, 'rmajor': 9.6829, 'te': 14.567, 'hfact': 1.2, 'tfcth': 1.4, 'ohcth': 0.92066, 'q': 3.0, 'bore': 2.8236, 'fvsbrnni': 0.001, 'tdmptf': 27.632, 'thkcas': 0.2194, 'thwcndut': 0.008, 'fcutfsu': 0.5, 'cpttf': 65000.0, 'ralpne': 0.090682, 'oh_steel_frac': 0.27702, 'fimp(13)': 0.00081666, 'dr_tf_wp': 0.57792, 'fgwped': 0.72}\n"
     ]
    }
   ],
   "source": [
    "from process.io.mfile import MFile\n",
    "from process.io.in_dat import InDat\n",
    "from pathlib import Path\n",
    "\n",
    "MFILE_NAME = \"min_rmajor/demo_MFILE.DAT\"\n",
    "ORIGINAL_IN_NAME = \"demo_IN.DAT\"\n",
    "SOL_IN_NAME = \"demo_sol_IN.DAT\"\n",
    "\n",
    "# Create Mfile object from mfile\n",
    "mfile_path = Path(MFILE_NAME)\n",
    "mfile = MFile(mfile_path)\n",
    "\n",
    "# Get number of optimisation parameters\n",
    "n = int(mfile.data[\"nvar\"].get_scan(-1))\n",
    "\n",
    "# Get all n optimisation parameter names and values from \"itvarxxx\" number\n",
    "opt_params = {}\n",
    "for i in range(n):\n",
    "    opt_param_no = f\"itvar{i+1:03}\"\n",
    "    param_name = mfile.data[opt_param_no].var_description\n",
    "    param_value = mfile.data[opt_param_no].get_scan(-1)\n",
    "    opt_params[param_name] = param_value\n",
    "\n",
    "# Print optimisation parameters at global solution\n",
    "print(f\"Global solution = {opt_params}\")"
   ]
  },
  {
   "attachments": {},
   "cell_type": "markdown",
   "metadata": {},
   "source": [
    "Now overwrite the original input file with the solution as the initial optimisation parameters."
   ]
  },
  {
   "cell_type": "code",
   "execution_count": 2,
   "metadata": {},
   "outputs": [],
   "source": [
    "# Now read in original IN.DAT\n",
    "in_dat_path = Path(ORIGINAL_IN_NAME)\n",
    "in_dat = InDat(in_dat_path)\n",
    "\n",
    "# Change to the new optimisation parameter values\n",
    "for var_name, value in opt_params.items():\n",
    "    in_dat.add_parameter(var_name, value)\n",
    "\n",
    "# Write out new IN.DAT, with optimisation parameters set to original solution\n",
    "sol_in_dat_path = Path(SOL_IN_NAME)\n",
    "in_dat.write_in_dat(sol_in_dat_path)"
   ]
  }
 ],
 "metadata": {
  "kernelspec": {
   "display_name": "process-uq",
   "language": "python",
   "name": "python3"
  },
  "language_info": {
   "codemirror_mode": {
    "name": "ipython",
    "version": 3
   },
   "file_extension": ".py",
   "mimetype": "text/x-python",
   "name": "python",
   "nbconvert_exporter": "python",
   "pygments_lexer": "ipython3",
   "version": "3.10.9"
  },
  "orig_nbformat": 4
 },
 "nbformat": 4,
 "nbformat_minor": 2
}
