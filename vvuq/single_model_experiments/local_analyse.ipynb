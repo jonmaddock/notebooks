{
 "cells": [
  {
   "attachments": {},
   "cell_type": "markdown",
   "metadata": {},
   "source": [
    "# Analyse previously run Campaign"
   ]
  },
  {
   "cell_type": "code",
   "execution_count": 1,
   "metadata": {},
   "outputs": [],
   "source": [
    "import easyvvuq as uq\n",
    "import chaospy as cp\n",
    "from pathlib import Path\n",
    "import matplotlib.pyplot as plt\n",
    "import seaborn as sns\n",
    "import numpy as np\n"
   ]
  },
  {
   "cell_type": "code",
   "execution_count": 6,
   "metadata": {},
   "outputs": [
    {
     "ename": "RuntimeError",
     "evalue": "Campaign directory (/rds/project/iris_vol2/rds-ukaea-ap001/ir-madd1/single_uncert_partial/campaigns/model_inputswnalrm7e) does not exist.",
     "output_type": "error",
     "traceback": [
      "\u001b[0;31m---------------------------------------------------------------------------\u001b[0m",
      "\u001b[0;31mRuntimeError\u001b[0m                              Traceback (most recent call last)",
      "Cell \u001b[0;32mIn[6], line 12\u001b[0m\n\u001b[1;32m      1\u001b[0m \u001b[39m# Method doesn't exist\u001b[39;00m\n\u001b[1;32m      2\u001b[0m \u001b[39m# campaign.save_state(\"something.json\")\u001b[39;00m\n\u001b[1;32m      3\u001b[0m \u001b[39m# Need to update docs here\u001b[39;00m\n\u001b[0;32m   (...)\u001b[0m\n\u001b[1;32m      9\u001b[0m \u001b[39m# db_location = str(Path(\"campaigns\") / \"model_inputsvu4gt6vy\" / \"campaign.db\")\u001b[39;00m\n\u001b[1;32m     10\u001b[0m \u001b[39m# Needs the sqlite:/// prefix\u001b[39;00m\n\u001b[1;32m     11\u001b[0m db_location \u001b[39m=\u001b[39m \u001b[39m\"\u001b[39m\u001b[39msqlite:////home/jon/code/notebooks/vvuq/single_model/campaigns/model_inputswnalrm7e/campaign.db\u001b[39m\u001b[39m\"\u001b[39m\n\u001b[0;32m---> 12\u001b[0m campaign \u001b[39m=\u001b[39m uq\u001b[39m.\u001b[39;49mCampaign(db_location\u001b[39m=\u001b[39;49mdb_location, name\u001b[39m=\u001b[39;49m\u001b[39m\"\u001b[39;49m\u001b[39mmodel_inputs\u001b[39;49m\u001b[39m\"\u001b[39;49m, work_dir\u001b[39m=\u001b[39;49m\u001b[39m\"\u001b[39;49m\u001b[39mcampaigns\u001b[39;49m\u001b[39m\"\u001b[39;49m)\n\u001b[1;32m     13\u001b[0m samples \u001b[39m=\u001b[39m campaign\u001b[39m.\u001b[39mget_collation_result()\n\u001b[1;32m     14\u001b[0m samples\n",
      "File \u001b[0;32m~/code/notebooks/vvuq/.venv/lib/python3.10/site-packages/easyvvuq/campaign.py:174\u001b[0m, in \u001b[0;36mCampaign.__init__\u001b[0;34m(self, name, params, actions, db_location, work_dir, state_file, change_to_state, verify_all_runs)\u001b[0m\n\u001b[1;32m    171\u001b[0m \u001b[39mself\u001b[39m\u001b[39m.\u001b[39m_active_sampler \u001b[39m=\u001b[39m \u001b[39mNone\u001b[39;00m\n\u001b[1;32m    172\u001b[0m \u001b[39mself\u001b[39m\u001b[39m.\u001b[39m_active_sampler_id \u001b[39m=\u001b[39m \u001b[39mNone\u001b[39;00m\n\u001b[0;32m--> 174\u001b[0m \u001b[39mself\u001b[39;49m\u001b[39m.\u001b[39;49minit_db(name, \u001b[39mself\u001b[39;49m\u001b[39m.\u001b[39;49mwork_dir)\n\u001b[1;32m    175\u001b[0m \u001b[39mself\u001b[39m\u001b[39m.\u001b[39m_state_dir \u001b[39m=\u001b[39m \u001b[39mNone\u001b[39;00m\n\u001b[1;32m    177\u001b[0m \u001b[39m# here we assume that the user wants to add an app\u001b[39;00m\n",
      "File \u001b[0;32m~/code/notebooks/vvuq/.venv/lib/python3.10/site-packages/easyvvuq/campaign.py:212\u001b[0m, in \u001b[0;36mCampaign.init_db\u001b[0;34m(self, name, work_dir)\u001b[0m\n\u001b[1;32m    210\u001b[0m \u001b[39mif\u001b[39;00m \u001b[39mnot\u001b[39;00m os\u001b[39m.\u001b[39mpath\u001b[39m.\u001b[39mexists(\u001b[39mself\u001b[39m\u001b[39m.\u001b[39m_campaign_dir):\n\u001b[1;32m    211\u001b[0m     message \u001b[39m=\u001b[39m \u001b[39mf\u001b[39m\u001b[39m\"\u001b[39m\u001b[39mCampaign directory (\u001b[39m\u001b[39m{\u001b[39;00m\u001b[39mself\u001b[39m\u001b[39m.\u001b[39mcampaign_dir\u001b[39m}\u001b[39;00m\u001b[39m) does not exist.\u001b[39m\u001b[39m\"\u001b[39m\n\u001b[0;32m--> 212\u001b[0m     \u001b[39mraise\u001b[39;00m \u001b[39mRuntimeError\u001b[39;00m(message)\n\u001b[1;32m    213\u001b[0m \u001b[39mself\u001b[39m\u001b[39m.\u001b[39m_active_sampler_id \u001b[39m=\u001b[39m \u001b[39mself\u001b[39m\u001b[39m.\u001b[39mcampaign_db\u001b[39m.\u001b[39mget_sampler_id(\u001b[39mself\u001b[39m\u001b[39m.\u001b[39mcampaign_id)\n\u001b[1;32m    214\u001b[0m \u001b[39mself\u001b[39m\u001b[39m.\u001b[39m_active_sampler \u001b[39m=\u001b[39m \u001b[39mself\u001b[39m\u001b[39m.\u001b[39mcampaign_db\u001b[39m.\u001b[39mresurrect_sampler(\n\u001b[1;32m    215\u001b[0m     \u001b[39mself\u001b[39m\u001b[39m.\u001b[39m_active_sampler_id\n\u001b[1;32m    216\u001b[0m )\n",
      "\u001b[0;31mRuntimeError\u001b[0m: Campaign directory (/rds/project/iris_vol2/rds-ukaea-ap001/ir-madd1/single_uncert_partial/campaigns/model_inputswnalrm7e) does not exist."
     ]
    }
   ],
   "source": [
    "# Method doesn't exist\n",
    "# campaign.save_state(\"something.json\")\n",
    "# Need to update docs here\n",
    "\n",
    "# Load campaign from state file: old approach\n",
    "# uq.Campaign(state_file=)\n",
    "\n",
    "# db_location = \"/home/jon/code/notebooks/vvuq/single_model/campaigns/model_inputsox2jf35t/campaign.db\"\n",
    "# db_location = str(Path(\"campaigns\") / \"model_inputsvu4gt6vy\" / \"campaign.db\")\n",
    "# Needs the sqlite:/// prefix\n",
    "db_location = \"sqlite:////home/jon/code/notebooks/vvuq/single_model/campaigns/model_inputswnalrm7e/campaign.db\"\n",
    "try:\n",
    "    campaign = uq.Campaign(db_location=db_location, name=\"model_inputs\", work_dir=\"campaigns\")\n",
    "except:\n",
    "    campaign\n",
    "samples = campaign.get_collation_result()\n",
    "samples"
   ]
  },
  {
   "cell_type": "code",
   "execution_count": null,
   "metadata": {},
   "outputs": [],
   "source": [
    "# Input epistemic uncertainties\n",
    "# plot_list = list(vary.keys())\n",
    "\n",
    "# pneutpv and palppv are outputs\n",
    "plot_list = [\"pneutpv\", \"palppv\", \"bp\", \"deni\"]\n",
    "sub_df = samples[plot_list]\n",
    "# pairplot doesn't support MultiIndexed columns\n",
    "sub_df.columns = sub_df.columns.droplevel(1)\n",
    "sns.pairplot(sub_df, kind=\"scatter\", diag_kind=\"hist\")\n",
    "\n",
    "# Attempting to plot entire results df (39 columns) takes >2 mins\n"
   ]
  }
 ],
 "metadata": {
  "kernelspec": {
   "display_name": ".venv",
   "language": "python",
   "name": "python3"
  },
  "language_info": {
   "codemirror_mode": {
    "name": "ipython",
    "version": 3
   },
   "file_extension": ".py",
   "mimetype": "text/x-python",
   "name": "python",
   "nbconvert_exporter": "python",
   "pygments_lexer": "ipython3",
   "version": "3.10.6"
  },
  "orig_nbformat": 4,
  "vscode": {
   "interpreter": {
    "hash": "0d602a62c005a1edaecc467843c8abc40b106c408f7dd3fdae5e868ff234b67e"
   }
  }
 },
 "nbformat": 4,
 "nbformat_minor": 2
}
