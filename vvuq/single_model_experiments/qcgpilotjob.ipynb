{
 "cells": [
  {
   "attachments": {},
   "cell_type": "markdown",
   "metadata": {},
   "source": [
    "# Single model (`palph2()`) UQ using QCG Pilotjob\n",
    "\n",
    "Try to capture the input and output uncertainties for a single model in Process. This will be done by sampling the input epistemic uncertainty parameter space to the code as a whole and capturing the input distributions to the model of interest. These input distributions can then be propagated through the model of interest, and the output variance analysed. This allows the uncertainty contribution of an individual model to be assessed, given a set of epistemic uncertainty inputs for the code as a whole.\n",
    "\n",
    "Dask will be used to parallelise the evaluations."
   ]
  },
  {
   "cell_type": "code",
   "execution_count": 1,
   "metadata": {},
   "outputs": [],
   "source": [
    "import easyvvuq as uq\n",
    "import chaospy as cp\n",
    "from pathlib import Path\n",
    "import matplotlib.pyplot as plt\n",
    "import seaborn as sns\n",
    "import numpy as np"
   ]
  },
  {
   "attachments": {},
   "cell_type": "markdown",
   "metadata": {},
   "source": [
    "## Campaign to capture input distribution for `palph2()`\n",
    "\n",
    "Using the epistemic uncertain inputs for the entire code, capture the distribution of inputs for the `palph2()` subroutine.\n",
    "\n",
    "To start with, make just 2 inputs uncertain (for running locally)."
   ]
  },
  {
   "attachments": {},
   "cell_type": "markdown",
   "metadata": {},
   "source": [
    "Execute the same as before, just with a `client` argument in the actions."
   ]
  },
  {
   "cell_type": "code",
   "execution_count": null,
   "metadata": {},
   "outputs": [],
   "source": [
    "# Define campaign\n",
    "campaign = uq.Campaign(name=\"model_inputs\", work_dir=\"campaigns\")\n",
    "\n",
    "# Doesn't exist!\n",
    "# uq.CampaignQCGPJ\n",
    "\n",
    "# Define parameter space\n",
    "# Uncertainties from Alex's SA paper\n",
    "\n",
    "params = {\n",
    "    \"fgwped\": {\n",
    "        \"type\": \"float\",\n",
    "        \"min\": 1.1,\n",
    "        \"max\": 1.3,\n",
    "        \"default\": 1.1,\n",
    "    },  # check: not sure if this is right var\n",
    "    \"hfact\": {\"type\": \"float\", \"min\": 1.0, \"max\": 1.2, \"default\": 1.1},\n",
    "    \"coreradius\": {\"type\": \"float\", \"min\": 0.45, \"max\": 0.75, \"default\": 0.75},\n",
    "    \"fimp_2\": {\"type\": \"float\", \"min\": 0.085, \"max\": 0.115, \"default\": 0.1},  # check\n",
    "    \"fimp_14\": {\n",
    "        \"type\": \"float\",\n",
    "        \"min\": 1.0e-5,\n",
    "        \"max\": 1.0e-4,\n",
    "        \"default\": 5e-5,\n",
    "    },  # check\n",
    "    \"psepbqarmax\": {\"type\": \"float\", \"min\": 8.7, \"max\": 9.7, \"default\": 9.2},\n",
    "    \"flhthresh\": {\"type\": \"float\", \"min\": 0.85, \"max\": 1.15, \"default\": 1.15},  # check\n",
    "    \"bscfmax\": {\"type\": \"float\", \"min\": 0.95, \"max\": 1.05, \"default\": 0.99},\n",
    "    \"peakfactrad\": {\"type\": \"float\", \"min\": 2.0, \"max\": 3.5, \"default\": 3.33},\n",
    "    \"kappa\": {\"type\": \"float\", \"min\": 1.8, \"max\": 1.9, \"default\": 1.8},  # check default\n",
    "    \"etaech\": {\"type\": \"float\", \"min\": 0.3, \"max\": 0.5, \"default\": 0.4},\n",
    "    \"feffcd\": {\"type\": \"float\", \"min\": 0.5, \"max\": 5.0, \"default\": 1.0},\n",
    "    \"etath\": {\"type\": \"float\", \"min\": 0.36, \"max\": 0.4, \"default\": 0.375},\n",
    "    \"etaiso\": {\"type\": \"float\", \"min\": 0.75, \"max\": 0.95, \"default\": 0.9},\n",
    "    \"boundl_18\": {\n",
    "        \"type\": \"float\",\n",
    "        \"min\": 3.25,\n",
    "        \"max\": 3.75,\n",
    "        \"default\": 3.5,\n",
    "    },  # q^95_min\n",
    "    \"pinjalw\": {\"type\": \"float\", \"min\": 51.0, \"max\": 61.0, \"default\": 51.0},\n",
    "    \"alstroh\": {\"type\": \"float\", \"min\": 6.0e8, \"max\": 7.2e8, \"default\": 6.6e8},\n",
    "    \"sig_tf_wp_max\": {\n",
    "        \"type\": \"float\",\n",
    "        \"min\": 5.2e8,\n",
    "        \"max\": 6.4e8,\n",
    "        \"default\": 5.8e8,\n",
    "    },  # winding pack, or casing?\n",
    "    \"aspect\": {\"type\": \"float\", \"min\": 3.0, \"max\": 3.2, \"default\": 3.1},\n",
    "    \"boundu_2\": {\n",
    "        \"type\": \"float\",\n",
    "        \"min\": 11.0,\n",
    "        \"max\": 12.0,\n",
    "        \"default\": 11.5,\n",
    "    },  # B_T^max: check default\n",
    "    \"triang\": {\"type\": \"float\", \"min\": 0.4, \"max\": 0.6, \"default\": 0.5},\n",
    "    \"out_file\": {\"type\": \"string\", \"default\": \"out.csv\"},\n",
    "}\n",
    "\n",
    "# QoIs for palph2(): inputs (args)\n",
    "palph2_inputs = [\n",
    "    \"bt\",\n",
    "    \"bp\",\n",
    "    \"dene\",\n",
    "    \"deni\",\n",
    "    \"dnitot\",\n",
    "    \"falpe\",\n",
    "    \"falpi\",\n",
    "    \"palpnb\",\n",
    "    \"ifalphap\",\n",
    "    \"pchargepv\",\n",
    "    \"pneutpv\",\n",
    "    \"ten\",\n",
    "    \"tin\",\n",
    "    \"vol\",\n",
    "    \"palppv\",\n",
    "]\n",
    "\n",
    "# Create encoder and decoder\n",
    "encoder = uq.encoders.GenericEncoder(\n",
    "    template_fname=\"baseline_2018.template\", target_filename=\"IN.DAT\"\n",
    ")\n",
    "decoder = uq.decoders.JSONDecoder(\n",
    "    target_filename=\"before.json\", output_columns=palph2_inputs\n",
    ")\n",
    "\n",
    "cmd = \"process -i IN.DAT\"\n",
    "actions = uq.actions.local_execute(encoder, cmd, decoder)\n",
    "\n",
    "# Add the app\n",
    "campaign.add_app(name=\"single_model\", params=params, actions=actions)\n",
    "\n",
    "# Create PCE sampler\n",
    "vary = {\n",
    "    \"aspect\": cp.Uniform(3.0, 3.2),\n",
    "    \"boundu_2\": cp.Uniform(11.0, 12.0),\n",
    "    \"psepbqarmax\": cp.Uniform(8.7, 9.7),\n",
    "}\n",
    "pce_sampler = uq.sampling.PCESampler(vary=vary, polynomial_order=3)\n",
    "\n",
    "# Add pce_sampler to campaign\n",
    "campaign.set_sampler(pce_sampler)\n",
    "\n",
    "# Draw samples, execute and collate\n",
    "\n",
    "# Doesn't exist in API any more\n",
    "# uq.pools.qcgpj\n",
    "uq.actions.E\n",
    "\n",
    "# TODO Possibly add thread pool in here\n",
    "campaign.execute(pool=\n",
    ").collate(progress_bar=True)\n",
    "samples = campaign.get_collation_result()\n"
   ]
  },
  {
   "attachments": {},
   "cell_type": "markdown",
   "metadata": {},
   "source": [
    "This will block until all evaluations are complete."
   ]
  }
 ],
 "metadata": {
  "kernelspec": {
   "display_name": ".venv",
   "language": "python",
   "name": "python3"
  },
  "language_info": {
   "codemirror_mode": {
    "name": "ipython",
    "version": 3
   },
   "file_extension": ".py",
   "mimetype": "text/x-python",
   "name": "python",
   "nbconvert_exporter": "python",
   "pygments_lexer": "ipython3",
   "version": "3.10.6 (main, Nov 14 2022, 16:10:14) [GCC 11.3.0]"
  },
  "orig_nbformat": 4,
  "vscode": {
   "interpreter": {
    "hash": "0d602a62c005a1edaecc467843c8abc40b106c408f7dd3fdae5e868ff234b67e"
   }
  }
 },
 "nbformat": 4,
 "nbformat_minor": 2
}
